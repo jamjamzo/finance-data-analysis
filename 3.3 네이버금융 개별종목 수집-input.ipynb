{
 "cells": [
  {
   "cell_type": "markdown",
   "metadata": {
    "id": "pOdYzjmEAGhg"
   },
   "source": [
    "[![Open In Colab](https://colab.research.google.com/assets/colab-badge.svg)](https://colab.research.google.com/github/corazzon/finance-data-analysis/blob/main/3.3%20%EB%84%A4%EC%9D%B4%EB%B2%84%EA%B8%88%EC%9C%B5%20%EA%B0%9C%EB%B3%84%EC%A2%85%EB%AA%A9%20%EC%88%98%EC%A7%91-input.ipynb)\n",
    "\n",
    "\n",
    "## 네이버 금융 개별종목 수집\n",
    "* FinanceDataReader를 통해 수집했던 데이터를 네이버 증권 웹 페이지를 통해 직접 수집합니다.\n",
    "\n",
    "\n",
    "### Keyword\n",
    "\n",
    "* html 파일 읽어오기\n",
    "    * pd.read_html(url, encoding=\"cp949\")\n",
    "\n",
    "* 결측 데이터 제거하기(axis 0:행, 1:열)\n",
    "    * table[0].dropna()\n",
    "\n",
    "* 데이터 프레임 합치기\n",
    "    * pd.concat([df1, df2, df3])\n",
    "\n",
    "* 중복데이터 제거\n",
    "    * df.drop_duplicates()\n",
    "\n",
    "* 과학적 기수법\n",
    "    * 1.210000e+02 => 121\n",
    "\n",
    "* 날짜 column의 첫 row값 확인\n",
    "    * date = df.iloc[0][\"날짜\"]\n",
    "\n",
    "* 파일로 저장하기 \n",
    "    * df.to_csv(file_name, index=False)\n",
    "\n",
    "* 파일 읽어오기\n",
    "    * pd.read_csv(file_name)"
   ]
  },
  {
   "cell_type": "markdown",
   "metadata": {
    "id": "-lIn4AdJTMkA"
   },
   "source": [
    "## 수집할 페이지 보기\n",
    "\n",
    "* 네이버 금융 국내증시 : https://finance.naver.com/sise/\n",
    "* 2020년 주요 상장종목\n",
    "    * 빅히트 : https://finance.naver.com/item/main.nhn?code=352820\n",
    "    * 카카오게임즈 : https://finance.naver.com/item/main.nhn?code=293490\n",
    "    * SK바이오팜 : https://finance.naver.com/item/main.nhn?code=326030"
   ]
  },
  {
   "cell_type": "markdown",
   "metadata": {},
   "source": [
    "## 라이브러리 로드"
   ]
  },
  {
   "cell_type": "code",
   "execution_count": 1,
   "metadata": {
    "id": "6Mm8vuymTMkA"
   },
   "outputs": [],
   "source": [
    "# 라이브러리 로드\n",
    "import pandas as pd"
   ]
  },
  {
   "cell_type": "markdown",
   "metadata": {},
   "source": [
    "## 수집할 URL 정하기"
   ]
  },
  {
   "cell_type": "code",
   "execution_count": 19,
   "metadata": {
    "id": "QzZJoAvoTMkA"
   },
   "outputs": [],
   "source": [
    "# 종목번호와 상장사 이름을 item_code와 item_name으로 설정\n",
    "# item_code = \"352820\"\n",
    "# item_name = \"빅히트\"\n",
    "\n",
    "item_code = \"326030\"\n",
    "item_name = \"SK바이오팜\"\n",
    "\n",
    "# 종목 URL 만들기\n",
    "url = \"https://finance.naver.com/item/sise_day.naver?code=005930&page=5\"\n"
   ]
  },
  {
   "cell_type": "markdown",
   "metadata": {},
   "source": [
    "## requests를 통한 HTTP 요청\n",
    "* [Requests: HTTP for Humans™ — Requests documentation](https://requests.readthedocs.io/en/master/)\n",
    "* [Quickstart — Requests documentation # custom-headers](https://requests.readthedocs.io/en/latest/user/quickstart/#custom-headers)"
   ]
  },
  {
   "cell_type": "code",
   "execution_count": 22,
   "metadata": {},
   "outputs": [
    {
     "data": {
      "text/plain": [
       "'\\n<html lang=\"ko\">\\n<head>\\n<meta http-equiv=\"Content-Type\" content=\"text/html; charset=euc-kr\">\\n<title>네이버 증권</title>\\n\\n<link rel=\"stylesheet\" type=\"text/css\" href=\"https://ssl.pstatic.net/imgstock/static.pc/20230718202221/css/newstock.css\">\\n<link rel=\"stylesheet\" type=\"text/css\" href=\"https://ssl.pstatic.net/imgstock/static.pc/20230718202221/css/common.css\">\\n<link rel=\"stylesheet\" type=\"text/css\" href=\"https://ssl.pstatic.net/imgstock/static.pc/20230718202221/css/layout.css\">\\n<link rel=\"stylesheet\" type=\"text/css\" href=\"https://ssl.pstatic.net/imgstock/static.pc/20230718202221/css/main.css\">\\n<link rel=\"stylesheet\" type=\"text/css\" href=\"https://ssl.pstatic.net/imgstock/static.pc/20230718202221/css/newstock2.css\">\\n<link rel=\"stylesheet\" type=\"text/css\" href=\"https://ssl.pstatic.net/imgstock/static.pc/20230718202221/css/newstock3.css\">\\n<link rel=\"stylesheet\" type=\"text/css\" href=\"https://ssl.pstatic.net/imgstock/static.pc/20230718202221/css/world.css\">\\n</head>\\n<body>\\n<script language=\"JavaScript\">\\nfunction mouseOver(obj){\\n  obj.style.backgroundColor=\"#f6f4e5\";\\n}\\nfunction mouseOut(obj){\\n  obj.style.backgroundColor=\"#ffffff\";\\n}\\n</script>\\n\\t\\t\\t\\t<h4 class=\"tlline2\"><strong><span class=\"red03\">일별</span>시세</strong></h4>\\t\\t\\t\\n\\t\\t\\t\\t<table cellspacing=\"0\" class=\"type2\">\\n\\t\\t\\t\\t<tr>\\n\\t\\t\\t\\t<th>날짜</th>\\n\\t\\t\\t\\t<th>종가</th>\\n\\t\\t\\t\\t<th>전일비</th>\\n\\t\\t\\t\\t<th>시가</th>\\n\\t\\t\\t\\t<th>고가</th>\\n\\t\\t\\t\\t<th>저가</th>\\n\\t\\t\\t\\t<th>거래량</th>\\n\\t\\t\\t\\t</tr>\\n\\t\\t\\t\\t<tr>\\n\\t\\t\\t\\t<td colspan=\"7\" height=\"8\"></td>\\n\\t\\t\\t\\t</tr>\\n\\n\\n\\t\\n\\t\\n\\t\\n\\t\\t\\n\\t\\t\\t\\n\\t\\t\\t\\t\\n\\t\\t\\t\\t\\t<tr onMouseOver=\"mouseOver(this)\" onMouseOut=\"mouseOut(this)\">\\n\\t\\t\\t\\t\\t<td align=\"center\"><span class=\"tah p10 gray03\">2023.05.31</span></td>\\n\\t\\t\\t\\t\\t<td class=\"num\"><span class=\"tah p11\">71,400</span></td>\\n\\t\\t\\t\\t\\t<td class=\"num\">\\n\\t\\t\\t\\t<img src=\"https://ssl.pstatic.net/imgstock/images/images4/ico_down.gif\" width=\"7\" height=\"6\" style=\"margin-right:4px;\" alt=\"하락\"><span class=\"tah p11 nv01\">\\n\\t\\t\\t\\t900\\n\\t\\t\\t\\t</span>\\n\\t\\t\\t</td>\\n\\t\\t\\t\\t\\t<td class=\"num\"><span class=\"tah p11\">72,400</span></td>\\n\\t\\t\\t\\t\\t<td class=\"num\"><span class=\"tah p11\">72,500</span></td>\\n\\t\\t\\t\\t\\t<td class=\"num\"><span class=\"tah p11\">71,000</span></td>\\n\\t\\t\\t\\t\\t<td class=\"num\"><span class=\"tah p11\">25,666,087</span></td>\\n\\t\\t\\t\\t\\t</tr>\\n\\t\\t\\t\\t\\n\\t\\t\\t\\t\\n\\t\\t\\t\\n\\t\\t\\t\\n\\t\\t\\t\\n\\t\\t\\t\\n\\t\\t\\t\\n\\t\\n\\t\\t\\n\\t\\t\\t\\n\\t\\t\\t\\t\\n\\t\\t\\t\\t\\t<tr onMouseOver=\"mouseOver(this)\" onMouseOut=\"mouseOut(this)\">\\n\\t\\t\\t\\t\\t<td align=\"center\"><span class=\"tah p10 gray03\">2023.05.30</span></td>\\n\\t\\t\\t\\t\\t<td class=\"num\"><span class=\"tah p11\">72,300</span></td>\\n\\t\\t\\t\\t\\t<td class=\"num\">\\n\\t\\t\\t\\t<img src=\"https://ssl.pstatic.net/imgstock/images/images4/ico_up.gif\" width=\"7\" height=\"6\" style=\"margin-right:4px;\" alt=\"상승\"><span class=\"tah p11 red02\">\\n\\t\\t\\t\\t2,000\\n\\t\\t\\t\\t</span>\\n\\t\\t\\t</td>\\n\\t\\t\\t\\t\\t<td class=\"num\"><span class=\"tah p11\">71,300</span></td>\\n\\t\\t\\t\\t\\t<td class=\"num\"><span class=\"tah p11\">72,300</span></td>\\n\\t\\t\\t\\t\\t<td class=\"num\"><span class=\"tah p11\">71,200</span></td>\\n\\t\\t\\t\\t\\t<td class=\"num\"><span class=\"tah p11\">27,476,897</span></td>\\n\\t\\t\\t\\t\\t</tr>\\n\\t\\t\\t\\t\\n\\t\\t\\t\\t\\n\\t\\t\\t\\n\\t\\t\\t\\n\\t\\t\\t\\n\\t\\t\\t\\n\\t\\t\\t\\n\\t\\n\\t\\t\\n\\t\\t\\t\\n\\t\\t\\t\\t\\n\\t\\t\\t\\t\\t<tr onMouseOver=\"mouseOver(this)\" onMouseOut=\"mouseOut(this)\">\\n\\t\\t\\t\\t\\t<td align=\"center\"><span class=\"tah p10 gray03\">2023.05.26</span></td>\\n\\t\\t\\t\\t\\t<td class=\"num\"><span class=\"tah p11\">70,300</span></td>\\n\\t\\t\\t\\t\\t<td class=\"num\">\\n\\t\\t\\t\\t<img src=\"https://ssl.pstatic.net/imgstock/images/images4/ico_up.gif\" width=\"7\" height=\"6\" style=\"margin-right:4px;\" alt=\"상승\"><span class=\"tah p11 red02\">\\n\\t\\t\\t\\t1,500\\n\\t\\t\\t\\t</span>\\n\\t\\t\\t</td>\\n\\t\\t\\t\\t\\t<td class=\"num\"><span class=\"tah p11\">69,800</span></td>\\n\\t\\t\\t\\t\\t<td class=\"num\"><span class=\"tah p11\">70,400</span></td>\\n\\t\\t\\t\\t\\t<td class=\"num\"><span class=\"tah p11\">69,500</span></td>\\n\\t\\t\\t\\t\\t<td class=\"num\"><span class=\"tah p11\">19,549,511</span></td>\\n\\t\\t\\t\\t\\t</tr>\\n\\t\\t\\t\\t\\n\\t\\t\\t\\t\\n\\t\\t\\t\\n\\t\\t\\t\\n\\t\\t\\t\\n\\t\\t\\t\\n\\t\\t\\t\\n\\t\\n\\t\\t\\n\\t\\t\\t\\n\\t\\t\\t\\t\\n\\t\\t\\t\\t\\t<tr onMouseOver=\"mouseOver(this)\" onMouseOut=\"mouseOut(this)\">\\n\\t\\t\\t\\t\\t<td align=\"center\"><span class=\"tah p10 gray03\">2023.05.25</span></td>\\n\\t\\t\\t\\t\\t<td class=\"num\"><span class=\"tah p11\">68,800</span></td>\\n\\t\\t\\t\\t\\t<td class=\"num\">\\n\\t\\t\\t\\t<img src=\"https://ssl.pstatic.net/imgstock/images/images4/ico_up.gif\" width=\"7\" height=\"6\" style=\"margin-right:4px;\" alt=\"상승\"><span class=\"tah p11 red02\">\\n\\t\\t\\t\\t300\\n\\t\\t\\t\\t</span>\\n\\t\\t\\t</td>\\n\\t\\t\\t\\t\\t<td class=\"num\"><span class=\"tah p11\">69,900</span></td>\\n\\t\\t\\t\\t\\t<td class=\"num\"><span class=\"tah p11\">70,000</span></td>\\n\\t\\t\\t\\t\\t<td class=\"num\"><span class=\"tah p11\">68,700</span></td>\\n\\t\\t\\t\\t\\t<td class=\"num\"><span class=\"tah p11\">14,231,160</span></td>\\n\\t\\t\\t\\t\\t</tr>\\n\\t\\t\\t\\t\\n\\t\\t\\t\\t\\n\\t\\t\\t\\n\\t\\t\\t\\n\\t\\t\\t\\n\\t\\t\\t\\n\\t\\t\\t\\n\\t\\n\\t\\t\\n\\t\\t\\t\\n\\t\\t\\t\\t\\n\\t\\t\\t\\t\\t<tr onMouseOver=\"mouseOver(this)\" onMouseOut=\"mouseOut(this)\">\\n\\t\\t\\t\\t\\t<td align=\"center\"><span class=\"tah p10 gray03\">2023.05.24</span></td>\\n\\t\\t\\t\\t\\t<td class=\"num\"><span class=\"tah p11\">68,500</span></td>\\n\\t\\t\\t\\t\\t<td class=\"num\">\\n\\t\\t\\t\\t<img src=\"https://ssl.pstatic.net/imgstock/images/images4/ico_up.gif\" width=\"7\" height=\"6\" style=\"margin-right:4px;\" alt=\"상승\"><span class=\"tah p11 red02\">\\n\\t\\t\\t\\t100\\n\\t\\t\\t\\t</span>\\n\\t\\t\\t</td>\\n\\t\\t\\t\\t\\t<td class=\"num\"><span class=\"tah p11\">68,100</span></td>\\n\\t\\t\\t\\t\\t<td class=\"num\"><span class=\"tah p11\">68,700</span></td>\\n\\t\\t\\t\\t\\t<td class=\"num\"><span class=\"tah p11\">68,000</span></td>\\n\\t\\t\\t\\t\\t<td class=\"num\"><span class=\"tah p11\">8,192,896</span></td>\\n\\t\\t\\t\\t\\t</tr>\\n\\t\\t\\t\\t\\n\\t\\t\\t\\t\\n\\t\\t\\t\\n\\t\\t\\t\\n\\t\\t\\t\\n\\t\\t\\t\\n\\t\\t\\t\\t<tr>\\n\\t\\t\\t\\t<td colspan=\"7\" height=\"8\"></td>\\n\\t\\t\\t\\t</tr>\\n\\t\\t\\t\\t<tr>\\n\\t\\t\\t\\t<td colspan=\"7\" height=\"1\" bgcolor=\"#e1e1e1\"></td>\\n\\t\\t\\t\\t</tr>\\n\\t\\t\\t\\t<tr>\\n\\t\\t\\t\\t<td colspan=\"7\" height=\"8\"></td>\\n\\t\\t\\t\\t</tr>\\n\\t\\t\\t\\n\\t\\t\\t\\n\\t\\n\\t\\t\\n\\t\\t\\t\\n\\t\\t\\t\\t\\n\\t\\t\\t\\t\\t<tr onMouseOver=\"mouseOver(this)\" onMouseOut=\"mouseOut(this)\">\\n\\t\\t\\t\\t\\t<td align=\"center\"><span class=\"tah p10 gray03\">2023.05.23</span></td>\\n\\t\\t\\t\\t\\t<td class=\"num\"><span class=\"tah p11\">68,400</span></td>\\n\\t\\t\\t\\t\\t<td class=\"num\">\\n\\t\\t\\t\\t<img src=\"https://ssl.pstatic.net/imgstock/images/images4/ico_down.gif\" width=\"7\" height=\"6\" style=\"margin-right:4px;\" alt=\"하락\"><span class=\"tah p11 nv01\">\\n\\t\\t\\t\\t100\\n\\t\\t\\t\\t</span>\\n\\t\\t\\t</td>\\n\\t\\t\\t\\t\\t<td class=\"num\"><span class=\"tah p11\">68,500</span></td>\\n\\t\\t\\t\\t\\t<td class=\"num\"><span class=\"tah p11\">68,700</span></td>\\n\\t\\t\\t\\t\\t<td class=\"num\"><span class=\"tah p11\">68,100</span></td>\\n\\t\\t\\t\\t\\t<td class=\"num\"><span class=\"tah p11\">8,561,643</span></td>\\n\\t\\t\\t\\t\\t</tr>\\n\\t\\t\\t\\t\\n\\t\\t\\t\\t\\n\\t\\t\\t\\n\\t\\t\\t\\n\\t\\t\\t\\n\\t\\t\\t\\n\\t\\t\\t\\n\\t\\n\\t\\t\\n\\t\\t\\t\\n\\t\\t\\t\\t\\n\\t\\t\\t\\t\\t<tr onMouseOver=\"mouseOver(this)\" onMouseOut=\"mouseOut(this)\">\\n\\t\\t\\t\\t\\t<td align=\"center\"><span class=\"tah p10 gray03\">2023.05.22</span></td>\\n\\t\\t\\t\\t\\t<td class=\"num\"><span class=\"tah p11\">68,500</span></td>\\n\\t\\t\\t\\t\\t<td class=\"num\">\\n\\t\\t\\t\\t<img src=\"https://ssl.pstatic.net/imgstock/images/images4/ico_up.gif\" width=\"7\" height=\"6\" style=\"margin-right:4px;\" alt=\"상승\"><span class=\"tah p11 red02\">\\n\\t\\t\\t\\t100\\n\\t\\t\\t\\t</span>\\n\\t\\t\\t</td>\\n\\t\\t\\t\\t\\t<td class=\"num\"><span class=\"tah p11\">68,400</span></td>\\n\\t\\t\\t\\t\\t<td class=\"num\"><span class=\"tah p11\">69,000</span></td>\\n\\t\\t\\t\\t\\t<td class=\"num\"><span class=\"tah p11\">68,000</span></td>\\n\\t\\t\\t\\t\\t<td class=\"num\"><span class=\"tah p11\">14,470,308</span></td>\\n\\t\\t\\t\\t\\t</tr>\\n\\t\\t\\t\\t\\n\\t\\t\\t\\t\\n\\t\\t\\t\\n\\t\\t\\t\\n\\t\\t\\t\\n\\t\\t\\t\\n\\t\\t\\t\\n\\t\\n\\t\\t\\n\\t\\t\\t\\n\\t\\t\\t\\t\\n\\t\\t\\t\\t\\t<tr onMouseOver=\"mouseOver(this)\" onMouseOut=\"mouseOut(this)\">\\n\\t\\t\\t\\t\\t<td align=\"center\"><span class=\"tah p10 gray03\">2023.05.19</span></td>\\n\\t\\t\\t\\t\\t<td class=\"num\"><span class=\"tah p11\">68,400</span></td>\\n\\t\\t\\t\\t\\t<td class=\"num\">\\n\\t\\t\\t\\t<img src=\"https://ssl.pstatic.net/imgstock/images/images4/ico_up.gif\" width=\"7\" height=\"6\" style=\"margin-right:4px;\" alt=\"상승\"><span class=\"tah p11 red02\">\\n\\t\\t\\t\\t2,200\\n\\t\\t\\t\\t</span>\\n\\t\\t\\t</td>\\n\\t\\t\\t\\t\\t<td class=\"num\"><span class=\"tah p11\">67,800</span></td>\\n\\t\\t\\t\\t\\t<td class=\"num\"><span class=\"tah p11\">68,400</span></td>\\n\\t\\t\\t\\t\\t<td class=\"num\"><span class=\"tah p11\">67,500</span></td>\\n\\t\\t\\t\\t\\t<td class=\"num\"><span class=\"tah p11\">20,349,345</span></td>\\n\\t\\t\\t\\t\\t</tr>\\n\\t\\t\\t\\t\\n\\t\\t\\t\\t\\n\\t\\t\\t\\n\\t\\t\\t\\n\\t\\t\\t\\n\\t\\t\\t\\n\\t\\t\\t\\n\\t\\n\\t\\t\\n\\t\\t\\t\\n\\t\\t\\t\\t\\n\\t\\t\\t\\t\\t<tr onMouseOver=\"mouseOver(this)\" onMouseOut=\"mouseOut(this)\">\\n\\t\\t\\t\\t\\t<td align=\"center\"><span class=\"tah p10 gray03\">2023.05.18</span></td>\\n\\t\\t\\t\\t\\t<td class=\"num\"><span class=\"tah p11\">66,200</span></td>\\n\\t\\t\\t\\t\\t<td class=\"num\">\\n\\t\\t\\t\\t<img src=\"https://ssl.pstatic.net/imgstock/images/images4/ico_up.gif\" width=\"7\" height=\"6\" style=\"margin-right:4px;\" alt=\"상승\"><span class=\"tah p11 red02\">\\n\\t\\t\\t\\t1,200\\n\\t\\t\\t\\t</span>\\n\\t\\t\\t</td>\\n\\t\\t\\t\\t\\t<td class=\"num\"><span class=\"tah p11\">66,000</span></td>\\n\\t\\t\\t\\t\\t<td class=\"num\"><span class=\"tah p11\">66,200</span></td>\\n\\t\\t\\t\\t\\t<td class=\"num\"><span class=\"tah p11\">65,700</span></td>\\n\\t\\t\\t\\t\\t<td class=\"num\"><span class=\"tah p11\">14,431,704</span></td>\\n\\t\\t\\t\\t\\t</tr>\\n\\t\\t\\t\\t\\n\\t\\t\\t\\t\\n\\t\\t\\t\\n\\t\\t\\t\\n\\t\\t\\t\\n\\t\\t\\t\\n\\t\\t\\t\\n\\t\\n\\t\\t\\n\\t\\t\\t\\n\\t\\t\\t\\t\\n\\t\\t\\t\\t\\t<tr onMouseOver=\"mouseOver(this)\" onMouseOut=\"mouseOut(this)\">\\n\\t\\t\\t\\t\\t<td align=\"center\"><span class=\"tah p10 gray03\">2023.05.17</span></td>\\n\\t\\t\\t\\t\\t<td class=\"num\"><span class=\"tah p11\">65,000</span></td>\\n\\t\\t\\t\\t\\t<td class=\"num\">\\n\\t\\t\\t\\t<img src=\"https://ssl.pstatic.net/imgstock/images/images4/ico_down.gif\" width=\"7\" height=\"6\" style=\"margin-right:4px;\" alt=\"하락\"><span class=\"tah p11 nv01\">\\n\\t\\t\\t\\t400\\n\\t\\t\\t\\t</span>\\n\\t\\t\\t</td>\\n\\t\\t\\t\\t\\t<td class=\"num\"><span class=\"tah p11\">65,900</span></td>\\n\\t\\t\\t\\t\\t<td class=\"num\"><span class=\"tah p11\">65,900</span></td>\\n\\t\\t\\t\\t\\t<td class=\"num\"><span class=\"tah p11\">64,800</span></td>\\n\\t\\t\\t\\t\\t<td class=\"num\"><span class=\"tah p11\">10,745,504</span></td>\\n\\t\\t\\t\\t\\t</tr>\\n\\t\\t\\t\\t\\n\\t\\t\\t\\t\\n\\t\\t\\t\\n\\t\\t\\t\\n\\t\\t\\t\\n\\t\\t\\t\\n\\t\\t\\t\\n\\t\\n\\t\\t\\n\\t\\n\\n\\t\\t\\t\\t<tr>\\n\\t\\t\\t\\t<td colspan=\"7\" height=\"8\"></td>\\n\\t\\t\\t\\t</tr>\\n\\t\\t\\t\\t</table>\\n\\t\\t\\t\\t<!--- 페이지 네비게이션 시작--->\\n\\t\\t\\t\\t<table summary=\"페이지 네비게이션 리스트\" class=\"Nnavi\" align=\"center\">\\n\\t\\t\\t\\t<caption>페이지 네비게이션</caption>\\n\\t\\t\\t\\t<tr>\\t\\t\\n\\t\\t\\t\\n\\t\\t\\t\\t<td class=\"pgLL\">\\n\\t\\t\\t\\t<a href=\"/item/sise_day.naver?code=005930&amp;page=1\"  >\\n\\t\\t\\t\\t<img src=\"https://ssl.pstatic.net/static/n/cmn/bu_pgarLL.gif\" width=\"7\" height=\"5\" alt=\"\">맨앞\\n\\t\\t\\t\\t</a>\\n\\t\\t\\t\\t</td>\\n\\n                \\n                <td>\\n\\t\\t\\t\\t<a href=\"/item/sise_day.naver?code=005930&amp;page=1\"  >1</a>\\n\\t\\t\\t\\t</td>\\n<td>\\n\\t\\t\\t\\t<a href=\"/item/sise_day.naver?code=005930&amp;page=2\"  >2</a>\\n\\t\\t\\t\\t</td>\\n<td>\\n\\t\\t\\t\\t<a href=\"/item/sise_day.naver?code=005930&amp;page=3\"  >3</a>\\n\\t\\t\\t\\t</td>\\n<td>\\n\\t\\t\\t\\t<a href=\"/item/sise_day.naver?code=005930&amp;page=4\"  >4</a>\\n\\t\\t\\t\\t</td>\\n<td class=\"on\">\\n\\t\\t\\t\\t<a href=\"/item/sise_day.naver?code=005930&amp;page=5\"  >5</a>\\n\\t\\t\\t\\t</td>\\n<td>\\n\\t\\t\\t\\t<a href=\"/item/sise_day.naver?code=005930&amp;page=6\"  >6</a>\\n\\t\\t\\t\\t</td>\\n<td>\\n\\t\\t\\t\\t<a href=\"/item/sise_day.naver?code=005930&amp;page=7\"  >7</a>\\n\\t\\t\\t\\t</td>\\n<td>\\n\\t\\t\\t\\t<a href=\"/item/sise_day.naver?code=005930&amp;page=8\"  >8</a>\\n\\t\\t\\t\\t</td>\\n<td>\\n\\t\\t\\t\\t<a href=\"/item/sise_day.naver?code=005930&amp;page=9\"  >9</a>\\n\\t\\t\\t\\t</td>\\n<td>\\n\\t\\t\\t\\t<a href=\"/item/sise_day.naver?code=005930&amp;page=10\"  >10</a>\\n\\t\\t\\t\\t</td>\\n\\n                <td class=\"pgR\">\\n\\t\\t\\t\\t<a href=\"/item/sise_day.naver?code=005930&amp;page=11\"  >\\n\\t\\t\\t\\t다음<img src=\"https://ssl.pstatic.net/static/n/cmn/bu_pgarR.gif\" width=\"3\" height=\"5\" alt=\"\" border=\"0\">\\n\\t\\t\\t\\t</a>\\n\\t\\t\\t\\t</td>\\n\\n                <td class=\"pgRR\">\\n\\t\\t\\t\\t<a href=\"/item/sise_day.naver?code=005930&amp;page=680\"  >맨뒤\\n\\t\\t\\t\\t<img src=\"https://ssl.pstatic.net/static/n/cmn/bu_pgarRR.gif\" width=\"8\" height=\"5\" alt=\"\" border=\"0\">\\n\\t\\t\\t\\t</a>\\n\\t\\t\\t\\t</td>\\n\\n            \\n\\t\\t\\t\\t</tr>\\n\\t\\t\\t\\t</table>\\n\\t\\t\\t\\t<!--- 페이지 네비게이션 끝--->\\n\\n\\n\\t<script type=\"text/javascript\" src=\"https://ssl.pstatic.net/imgstock/static.pc/20230718202221/js/jindo.min.ns.1.5.3.euckr.js\"></script>\\n\\t<script type=\"text/javascript\" src=\"https://ssl.pstatic.net/imgstock/static.pc/20230718202221/js/lcslog.js\"></script>\\n\\t<script type=\"text/javascript\">\\n        ;(function(){\\n            var eventType = \"onpageshow\" in window ? \"pageshow\" : \"load\";\\n            jindo.$Fn(function(){\\n                lcs_do();\\n            }).attach(window, eventType);\\n        })();\\n\\t</script>\\n\\n</body>\\n'"
      ]
     },
     "execution_count": 22,
     "metadata": {},
     "output_type": "execute_result"
    }
   ],
   "source": [
    "import requests\n",
    "\n",
    "headers = {'user-agent': 'Mozilla/5.0 (Windows NT 10.0; Win64; x64) AppleWebKit/537.36 (KHTML, like Gecko) Chrome/115.0.0.0 Safari/537.36'}\n",
    "\n",
    "response = requests.get(url, headers=headers) # <Response [200]> : 정상적으로 잘 받았다라는 의미\n",
    "response.text"
   ]
  },
  {
   "cell_type": "markdown",
   "metadata": {},
   "source": [
    "## BeautifulSoup 을 통한 table 태그 찾기\n",
    "\n",
    "* [Beautiful Soup Documentation — Beautiful Soup 4.9.0 documentation](https://www.crummy.com/software/BeautifulSoup/bs4/doc/)"
   ]
  },
  {
   "cell_type": "code",
   "execution_count": null,
   "metadata": {},
   "outputs": [],
   "source": []
  },
  {
   "cell_type": "code",
   "execution_count": null,
   "metadata": {},
   "outputs": [],
   "source": []
  },
  {
   "cell_type": "markdown",
   "metadata": {},
   "source": [
    "## pandas 코드 한 줄로 데이터 수집하기"
   ]
  },
  {
   "cell_type": "code",
   "execution_count": 7,
   "metadata": {
    "id": "T3e0Jt0mTMkA"
   },
   "outputs": [
    {
     "data": {
      "text/plain": [
       "12"
      ]
     },
     "execution_count": 7,
     "metadata": {},
     "output_type": "execute_result"
    }
   ],
   "source": [
    "# read_html을 이용하여 url의 page내의 값을 DataFrame으로 받아옵니다.\n",
    "# cp949는 한글 인코딩을 위해 사용합니다. 기본 인코딩 설정은 utf-8 이며, \n",
    "# 네이버의 일별 시세는 cp949 인코딩으로 불러올 수 있습니다.\n",
    "# 데이터를 로드 했을 때 한글 인코딩이 깨진다면 대부분 cp949 로 불러올 수 있습니다.\n",
    "\n",
    "\n",
    "# url = \"https://finance.naver.com/item/sise.naver?code=005930\"\n",
    "table = pd.read_html(url, encoding='CP949') \n",
    "len(table) # 일별 시세를 보기 위해 총 12개의 Table(표)를 불러왔다 "
   ]
  },
  {
   "cell_type": "code",
   "execution_count": 17,
   "metadata": {
    "id": "GQ_LCYp0TMkA"
   },
   "outputs": [
    {
     "data": {
      "text/html": [
       "<div>\n",
       "<style scoped>\n",
       "    .dataframe tbody tr th:only-of-type {\n",
       "        vertical-align: middle;\n",
       "    }\n",
       "\n",
       "    .dataframe tbody tr th {\n",
       "        vertical-align: top;\n",
       "    }\n",
       "\n",
       "    .dataframe thead th {\n",
       "        text-align: right;\n",
       "    }\n",
       "</style>\n",
       "<table border=\"1\" class=\"dataframe\">\n",
       "  <thead>\n",
       "    <tr style=\"text-align: right;\">\n",
       "      <th></th>\n",
       "      <th>업체명</th>\n",
       "      <th>거래량</th>\n",
       "      <th>전일비</th>\n",
       "    </tr>\n",
       "  </thead>\n",
       "  <tbody>\n",
       "    <tr>\n",
       "      <th>0</th>\n",
       "      <td>에코프로</td>\n",
       "      <td>1146000.0</td>\n",
       "      <td>하향  82,000</td>\n",
       "    </tr>\n",
       "    <tr>\n",
       "      <th>1</th>\n",
       "      <td>에코프로비엠</td>\n",
       "      <td>433000.0</td>\n",
       "      <td>하향  22,000</td>\n",
       "    </tr>\n",
       "    <tr>\n",
       "      <th>2</th>\n",
       "      <td>포스코DX</td>\n",
       "      <td>34450.0</td>\n",
       "      <td>하향  1,050</td>\n",
       "    </tr>\n",
       "    <tr>\n",
       "      <th>3</th>\n",
       "      <td>씨젠</td>\n",
       "      <td>24200.0</td>\n",
       "      <td>상향  4,540</td>\n",
       "    </tr>\n",
       "    <tr>\n",
       "      <th>4</th>\n",
       "      <td>엘앤에프</td>\n",
       "      <td>259000.0</td>\n",
       "      <td>하향  4,000</td>\n",
       "    </tr>\n",
       "    <tr>\n",
       "      <th>5</th>\n",
       "      <td>NaN</td>\n",
       "      <td>NaN</td>\n",
       "      <td>NaN</td>\n",
       "    </tr>\n",
       "    <tr>\n",
       "      <th>6</th>\n",
       "      <td>유안타제14호..</td>\n",
       "      <td>4810.0</td>\n",
       "      <td>상향  2,810</td>\n",
       "    </tr>\n",
       "    <tr>\n",
       "      <th>7</th>\n",
       "      <td>에이엘티</td>\n",
       "      <td>25050.0</td>\n",
       "      <td>상향  50</td>\n",
       "    </tr>\n",
       "    <tr>\n",
       "      <th>8</th>\n",
       "      <td>ISC</td>\n",
       "      <td>107100.0</td>\n",
       "      <td>상향  15,200</td>\n",
       "    </tr>\n",
       "    <tr>\n",
       "      <th>9</th>\n",
       "      <td>포스코엠텍</td>\n",
       "      <td>37850.0</td>\n",
       "      <td>하향  1,300</td>\n",
       "    </tr>\n",
       "    <tr>\n",
       "      <th>10</th>\n",
       "      <td>티로보틱스</td>\n",
       "      <td>25300.0</td>\n",
       "      <td>상향  4,000</td>\n",
       "    </tr>\n",
       "  </tbody>\n",
       "</table>\n",
       "</div>"
      ],
      "text/plain": [
       "          업체명        거래량         전일비\n",
       "0        에코프로  1146000.0  하향  82,000\n",
       "1      에코프로비엠   433000.0  하향  22,000\n",
       "2       포스코DX    34450.0   하향  1,050\n",
       "3          씨젠    24200.0   상향  4,540\n",
       "4        엘앤에프   259000.0   하향  4,000\n",
       "5         NaN        NaN         NaN\n",
       "6   유안타제14호..     4810.0   상향  2,810\n",
       "7        에이엘티    25050.0      상향  50\n",
       "8         ISC   107100.0  상향  15,200\n",
       "9       포스코엠텍    37850.0   하향  1,300\n",
       "10      티로보틱스    25300.0   상향  4,000"
      ]
     },
     "execution_count": 17,
     "metadata": {},
     "output_type": "execute_result"
    }
   ],
   "source": [
    "# table[0]와 table[1]을 확인하여 보면 table[0]에 필요한 데이터들이 있습니다.\n",
    "table[0] # [0]~[11]: 일별시세는 찾을 수 없었다"
   ]
  },
  {
   "cell_type": "code",
   "execution_count": null,
   "metadata": {
    "id": "0gI1rNUbTMkA"
   },
   "outputs": [],
   "source": [
    "# dropna를 통해 결측치가 들어있는 row를 제거합니다.\n",
    "# temp"
   ]
  },
  {
   "cell_type": "markdown",
   "metadata": {
    "id": "CKhsb94wTMkA"
   },
   "source": [
    "## 페이지별 데이터 수집 함수 만들기"
   ]
  },
  {
   "cell_type": "code",
   "execution_count": null,
   "metadata": {
    "id": "gJugcyoiTMkA"
   },
   "outputs": [],
   "source": [
    "# 종목 번호를 이용해 page에 따라 데이터를 읽어오는 함수\n",
    "# \"\"\" 는 이 두개 사이의 행들은 주석 처리되며, 함수의 docstring 으로 사용됩니다.\n",
    "\n",
    "# def get_day_list(item_code, page_no):\n",
    "# \"\"\"\n",
    "# 일자별 시세를 페이지별로 수집\n",
    "# \"\"\" "
   ]
  },
  {
   "cell_type": "code",
   "execution_count": null,
   "metadata": {
    "id": "evjinapgTMkA"
   },
   "outputs": [],
   "source": [
    "# 함수가 잘 만들어졌는지 확인하기\n"
   ]
  },
  {
   "cell_type": "markdown",
   "metadata": {
    "id": "uuaac8XTTMkA"
   },
   "source": [
    "## 반복문을 통한 전체 일자 데이터 수집하기\n",
    "* (주의) 기간이 긴 데이터를 수집할때는 서버에 부담을 주지 않기 위해 time.sleep()값을 주세요."
   ]
  },
  {
   "cell_type": "code",
   "execution_count": null,
   "metadata": {
    "id": "EQs1C6C_TMkA"
   },
   "outputs": [],
   "source": [
    "import time\n",
    "# web page 시작번호\n",
    "page_no = 1\n",
    "# 데이터를 저장할 빈 변수 선언\n",
    "item_list = []\n"
   ]
  },
  {
   "cell_type": "code",
   "execution_count": null,
   "metadata": {},
   "outputs": [],
   "source": []
  },
  {
   "cell_type": "markdown",
   "metadata": {
    "id": "iEFBJv5XTMkA"
   },
   "source": [
    "## 수집한 데이터 하나의 데이터프레임으로 합치기\n",
    "\n",
    "<img src=\"https://pandas.pydata.org/docs/_images/merging_concat_basic.png\">\n",
    "\n",
    "* [Merge, join, concatenate and compare documentation](https://pandas.pydata.org/docs/user_guide/merging.html#merge-join-concatenate-and-compare)"
   ]
  },
  {
   "cell_type": "code",
   "execution_count": null,
   "metadata": {
    "id": "mUcxeTMFTMkA"
   },
   "outputs": [],
   "source": [
    "# DataFrame들이 list의 형태로 저장된 것을 concat을 이용하여 합치면서 하나의 DataFrame으로 만듭니다.\n"
   ]
  },
  {
   "cell_type": "markdown",
   "metadata": {},
   "source": [
    "<img src=\"https://pandas.pydata.org/docs/_images/08_concat_row.svg\">"
   ]
  },
  {
   "cell_type": "code",
   "execution_count": null,
   "metadata": {
    "id": "Ep3NWfM-TMkA"
   },
   "outputs": [],
   "source": [
    "# head와 tail로 데이터의 일부를 가져와서 봅니다.\n"
   ]
  },
  {
   "cell_type": "code",
   "execution_count": null,
   "metadata": {
    "id": "hHcKUo8iTMkA"
   },
   "outputs": [],
   "source": []
  },
  {
   "cell_type": "markdown",
   "metadata": {
    "id": "DdML6w8yTMkA"
   },
   "source": [
    "## 데이터프레임에 종목코드와 종목명을 추가하기\n",
    "* 파생변수 만들기"
   ]
  },
  {
   "cell_type": "code",
   "execution_count": null,
   "metadata": {
    "id": "-yIDnlZHTMkA"
   },
   "outputs": [],
   "source": [
    "# '종목코드'와 '종목명' column을 추가하면서 각각 item_code와 item_name 값을 입력합니다.\n",
    "# df[\"종목코드\"]\n",
    "# df[\"종목명\"]"
   ]
  },
  {
   "cell_type": "code",
   "execution_count": null,
   "metadata": {
    "id": "bwDA0C4PTMkA"
   },
   "outputs": [],
   "source": []
  },
  {
   "cell_type": "markdown",
   "metadata": {
    "id": "3RlnKPE1TMkA"
   },
   "source": [
    "## 컬럼 순서 변경하기"
   ]
  },
  {
   "cell_type": "code",
   "execution_count": null,
   "metadata": {
    "id": "JblNSbuRTMkA"
   },
   "outputs": [],
   "source": [
    "# DataFrame에서 column 들의 이름을 순서를 조정하여 column순서를 변경할 수 있습니다.\n"
   ]
  },
  {
   "cell_type": "code",
   "execution_count": null,
   "metadata": {},
   "outputs": [],
   "source": [
    "cols = ['종목코드', '종목명', '날짜', '종가', '전일비', '시가', '고가', '저가', '거래량']\n"
   ]
  },
  {
   "cell_type": "markdown",
   "metadata": {
    "id": "_-SXjeiSTMkA"
   },
   "source": [
    "## 중복데이터 제거하기\n",
    "* drop_duplicates 를 통해 중복된 데이터가 있다면 제거합니다."
   ]
  },
  {
   "cell_type": "code",
   "execution_count": null,
   "metadata": {
    "id": "F0VZGMNRTMkA"
   },
   "outputs": [],
   "source": [
    "# drop_duplicates : row들 끼리 data를 비교하여 같은 값이 있으면 row중 하나를 삭제\n",
    "# df.shape를 전/후로 출력하여 삭제된 row가 있는지 확인\n"
   ]
  },
  {
   "cell_type": "markdown",
   "metadata": {
    "id": "viEbEi4iTMkB"
   },
   "source": [
    "## 기술통계값 구하기"
   ]
  },
  {
   "cell_type": "code",
   "execution_count": null,
   "metadata": {
    "id": "Q-gV-QPPTMkB"
   },
   "outputs": [],
   "source": [
    "# describe는 기본적으로 수치데이터에 대한 기술통계값을 구하게 됩니다.\n"
   ]
  },
  {
   "cell_type": "markdown",
   "metadata": {},
   "source": [
    "* 참고 : E notation\n",
    "[과학적 기수법 - 위키백과, 우리 모두의 백과사전](https://ko.wikipedia.org/wiki/%EA%B3%BC%ED%95%99%EC%A0%81_%EA%B8%B0%EC%88%98%EB%B2%95)\n",
    "\n",
    "과학적 기수법, 과학적 표기법(scientific notation, scientific form, standard index form, standard form)은 너무 크거나 너무 작은 숫자들을 십진법으로 편하게 작성하여 표현하는 방법이다. 과학자, 수학자, 공학자들이 공통적으로 사용하는데, 부분적인 이유는 특정한 산술을 단순화시켜 주기 때문이다. 과학 계산기에서는 \"SCI\" 디스플레이 모드라는 이름으로 알려져 있다."
   ]
  },
  {
   "cell_type": "code",
   "execution_count": null,
   "metadata": {},
   "outputs": [],
   "source": [
    "# 거래량의 과학적 기수법 읽기\n"
   ]
  },
  {
   "cell_type": "markdown",
   "metadata": {
    "id": "Ql0phnyuTMkB"
   },
   "source": [
    "## 최근 날짜 구해서 파일명 만들기"
   ]
  },
  {
   "cell_type": "code",
   "execution_count": null,
   "metadata": {
    "id": "_dyLUpVVTMkB"
   },
   "outputs": [],
   "source": [
    "# 날짜 column의 첫 row값 확인\n",
    "# date"
   ]
  },
  {
   "cell_type": "code",
   "execution_count": null,
   "metadata": {
    "id": "teInPugvTMkB"
   },
   "outputs": [],
   "source": [
    "# 종목명, 종목코드, 날짜를 이름으로 하는 csv 파일명 만들기\n",
    "# file_name\n"
   ]
  },
  {
   "cell_type": "markdown",
   "metadata": {
    "id": "1LXe-dutTMkB"
   },
   "source": [
    "## 파일로 저장하기"
   ]
  },
  {
   "cell_type": "code",
   "execution_count": null,
   "metadata": {
    "id": "dBRXOwIxTMkB"
   },
   "outputs": [],
   "source": [
    "# 파일로 저장하기 \n",
    "# index=False 로 데이터프레임의 기본 index 는 저장하지 않도록 합니다.\n"
   ]
  },
  {
   "cell_type": "code",
   "execution_count": null,
   "metadata": {
    "id": "EEfm9Yk9TMkB"
   },
   "outputs": [],
   "source": [
    "# 제대로 저장되었는지 파일을 읽어서 확인합니다.\n"
   ]
  },
  {
   "cell_type": "markdown",
   "metadata": {},
   "source": [
    "## 전체 과정을 하나의 함수로 만들기"
   ]
  },
  {
   "cell_type": "code",
   "execution_count": null,
   "metadata": {},
   "outputs": [],
   "source": [
    "# def get_item_list(item_code, item_name):\n",
    "#     \"\"\"\n",
    "#     일별 시세를 수집하는 함수\n",
    "#     \"\"\""
   ]
  },
  {
   "cell_type": "code",
   "execution_count": null,
   "metadata": {},
   "outputs": [],
   "source": [
    "# item_code = \"352820\"\n",
    "# item_name = \"하이브\"\n",
    "# 빅히트의 사명이 하이브로 변경되었습니다.\n",
    "\n",
    "item_code = \"326030\"\n",
    "item_name = \"SK바이오팜\"\n"
   ]
  },
  {
   "cell_type": "markdown",
   "metadata": {},
   "source": [
    "## 내가 만든 함수의 기능과 소스코드가 궁금하다면?"
   ]
  },
  {
   "cell_type": "code",
   "execution_count": null,
   "metadata": {},
   "outputs": [],
   "source": [
    "# 도움말 보기\n",
    "# get_item_list?\n"
   ]
  },
  {
   "cell_type": "code",
   "execution_count": null,
   "metadata": {},
   "outputs": [],
   "source": [
    "# 소스코드 보기\n",
    "# get_item_list??\n"
   ]
  },
  {
   "cell_type": "code",
   "execution_count": null,
   "metadata": {},
   "outputs": [],
   "source": []
  }
 ],
 "metadata": {
  "colab": {
   "collapsed_sections": [],
   "name": "3. 네이버금융 개별종목 수집.ipynb",
   "provenance": [],
   "toc_visible": true
  },
  "kernelspec": {
   "display_name": "Python 3 (ipykernel)",
   "language": "python",
   "name": "python3"
  },
  "language_info": {
   "codemirror_mode": {
    "name": "ipython",
    "version": 3
   },
   "file_extension": ".py",
   "mimetype": "text/x-python",
   "name": "python",
   "nbconvert_exporter": "python",
   "pygments_lexer": "ipython3",
   "version": "3.9.15"
  },
  "toc": {
   "base_numbering": 1,
   "nav_menu": {},
   "number_sections": true,
   "sideBar": true,
   "skip_h1_title": false,
   "title_cell": "Table of Contents",
   "title_sidebar": "Contents",
   "toc_cell": false,
   "toc_position": {
    "height": "calc(100% - 180px)",
    "left": "10px",
    "top": "150px",
    "width": "204.797px"
   },
   "toc_section_display": true,
   "toc_window_display": true
  },
  "varInspector": {
   "cols": {
    "lenName": 16,
    "lenType": 16,
    "lenVar": 40
   },
   "kernels_config": {
    "python": {
     "delete_cmd_postfix": "",
     "delete_cmd_prefix": "del ",
     "library": "var_list.py",
     "varRefreshCmd": "print(var_dic_list())"
    },
    "r": {
     "delete_cmd_postfix": ") ",
     "delete_cmd_prefix": "rm(",
     "library": "var_list.r",
     "varRefreshCmd": "cat(var_dic_list()) "
    }
   },
   "types_to_exclude": [
    "module",
    "function",
    "builtin_function_or_method",
    "instance",
    "_Feature"
   ],
   "window_display": false
  }
 },
 "nbformat": 4,
 "nbformat_minor": 1
}
