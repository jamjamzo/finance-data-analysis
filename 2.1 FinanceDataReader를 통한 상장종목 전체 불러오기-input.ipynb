{
 "cells": [
  {
   "cell_type": "markdown",
   "metadata": {
    "id": "NZrikuL1v9xa"
   },
   "source": [
    "[![Open In Colab](https://colab.research.google.com/assets/colab-badge.svg)](https://colab.research.google.com/github/corazzon/finance-data-analysis/blob/main/2.1%20FinanceDataReader%EB%A5%BC%20%ED%86%B5%ED%95%9C%20%EC%83%81%EC%9E%A5%EC%A2%85%EB%AA%A9%20%EC%A0%84%EC%B2%B4%20%EB%B6%88%EB%9F%AC%EC%98%A4%EA%B8%B0-input.ipynb)\n",
    "\n",
    "\n",
    "\n",
    "## FinanceDataReader 란?\n",
    "\n",
    "* 한국 주식 가격, 미국주식 가격, 지수, 환율, 암호화폐 가격, 종목 리스팅 등 금융 데이터 수집 라이브러리\n",
    "\n",
    "* [FinanceData/FinanceDataReader: Financial data reader](https://github.com/FinanceData/FinanceDataReader)\n",
    "* [FinanceDataReader 사용자 안내서 | FinanceData](https://financedata.github.io/posts/finance-data-reader-users-guide.html)\n",
    "* https://pandas-datareader.readthedocs.io/en/latest/readers/index.html"
   ]
  },
  {
   "cell_type": "markdown",
   "metadata": {
    "id": "ov2cG3hxv9xb"
   },
   "source": [
    "## 설치"
   ]
  },
  {
   "cell_type": "code",
   "execution_count": null,
   "metadata": {
    "id": "qPS0Zv_8v9xb"
   },
   "outputs": [],
   "source": [
    "# 주석을 풀고 설치해 주세요. 주석을 푸는 방법은 아래 코드의 맨 앞에 있는 #을 지워주시면 됩니다.\n",
    "# !pip install -U finance-datareader"
   ]
  },
  {
   "cell_type": "markdown",
   "metadata": {
    "id": "HWKVTvP7v9xb"
   },
   "source": [
    "## 라이브러리 불러오기"
   ]
  },
  {
   "cell_type": "code",
   "execution_count": 1,
   "metadata": {
    "id": "OGQuQOfmv9xb"
   },
   "outputs": [],
   "source": [
    "# 데이터 분석을 위해 pandas 불러오기\n",
    "import pandas as pd"
   ]
  },
  {
   "cell_type": "code",
   "execution_count": 2,
   "metadata": {
    "id": "b6HIWLlfv9xb",
    "scrolled": true
   },
   "outputs": [
    {
     "data": {
      "text/plain": [
       "'0.9.50'"
      ]
     },
     "execution_count": 2,
     "metadata": {},
     "output_type": "execute_result"
    }
   ],
   "source": [
    "# FinanceDataReader 를 fdr 별칭으로 불러옵니다.\n",
    "# 라이브러리의 version을 확인하고 싶을 때는 .__version__ 으로 확인합니다. \n",
    "import FinanceDataReader as fdr\n",
    "fdr.__version__"
   ]
  },
  {
   "cell_type": "markdown",
   "metadata": {},
   "source": [
    "## 한국거래소 상장종목 전체 가져오기"
   ]
  },
  {
   "cell_type": "code",
   "execution_count": 3,
   "metadata": {
    "id": "hl6Q00uev9xc"
   },
   "outputs": [
    {
     "data": {
      "text/html": [
       "<div>\n",
       "<style scoped>\n",
       "    .dataframe tbody tr th:only-of-type {\n",
       "        vertical-align: middle;\n",
       "    }\n",
       "\n",
       "    .dataframe tbody tr th {\n",
       "        vertical-align: top;\n",
       "    }\n",
       "\n",
       "    .dataframe thead th {\n",
       "        text-align: right;\n",
       "    }\n",
       "</style>\n",
       "<table border=\"1\" class=\"dataframe\">\n",
       "  <thead>\n",
       "    <tr style=\"text-align: right;\">\n",
       "      <th></th>\n",
       "      <th>Code</th>\n",
       "      <th>ISU_CD</th>\n",
       "      <th>Name</th>\n",
       "      <th>Market</th>\n",
       "      <th>Dept</th>\n",
       "      <th>Close</th>\n",
       "      <th>ChangeCode</th>\n",
       "      <th>Changes</th>\n",
       "      <th>ChagesRatio</th>\n",
       "      <th>Open</th>\n",
       "      <th>High</th>\n",
       "      <th>Low</th>\n",
       "      <th>Volume</th>\n",
       "      <th>Amount</th>\n",
       "      <th>Marcap</th>\n",
       "      <th>Stocks</th>\n",
       "      <th>MarketId</th>\n",
       "    </tr>\n",
       "  </thead>\n",
       "  <tbody>\n",
       "    <tr>\n",
       "      <th>0</th>\n",
       "      <td>005930</td>\n",
       "      <td>KR7005930003</td>\n",
       "      <td>삼성전자</td>\n",
       "      <td>KOSPI</td>\n",
       "      <td></td>\n",
       "      <td>71400</td>\n",
       "      <td>2</td>\n",
       "      <td>-100</td>\n",
       "      <td>-0.14</td>\n",
       "      <td>71200</td>\n",
       "      <td>72000</td>\n",
       "      <td>71100</td>\n",
       "      <td>6540023</td>\n",
       "      <td>467381527800</td>\n",
       "      <td>426242474070000</td>\n",
       "      <td>5969782550</td>\n",
       "      <td>STK</td>\n",
       "    </tr>\n",
       "    <tr>\n",
       "      <th>1</th>\n",
       "      <td>373220</td>\n",
       "      <td>KR7373220003</td>\n",
       "      <td>LG에너지솔루션</td>\n",
       "      <td>KOSPI</td>\n",
       "      <td></td>\n",
       "      <td>535000</td>\n",
       "      <td>2</td>\n",
       "      <td>-15000</td>\n",
       "      <td>-2.73</td>\n",
       "      <td>538000</td>\n",
       "      <td>539000</td>\n",
       "      <td>530000</td>\n",
       "      <td>1692709</td>\n",
       "      <td>897342661500</td>\n",
       "      <td>125190000000000</td>\n",
       "      <td>234000000</td>\n",
       "      <td>STK</td>\n",
       "    </tr>\n",
       "    <tr>\n",
       "      <th>2</th>\n",
       "      <td>000660</td>\n",
       "      <td>KR7000660001</td>\n",
       "      <td>SK하이닉스</td>\n",
       "      <td>KOSPI</td>\n",
       "      <td></td>\n",
       "      <td>114100</td>\n",
       "      <td>1</td>\n",
       "      <td>700</td>\n",
       "      <td>0.62</td>\n",
       "      <td>113200</td>\n",
       "      <td>114800</td>\n",
       "      <td>112800</td>\n",
       "      <td>1241102</td>\n",
       "      <td>141317094823</td>\n",
       "      <td>83065069846500</td>\n",
       "      <td>728002365</td>\n",
       "      <td>STK</td>\n",
       "    </tr>\n",
       "    <tr>\n",
       "      <th>3</th>\n",
       "      <td>207940</td>\n",
       "      <td>KR7207940008</td>\n",
       "      <td>삼성바이오로직스</td>\n",
       "      <td>KOSPI</td>\n",
       "      <td></td>\n",
       "      <td>722000</td>\n",
       "      <td>2</td>\n",
       "      <td>-1000</td>\n",
       "      <td>-0.14</td>\n",
       "      <td>722000</td>\n",
       "      <td>723000</td>\n",
       "      <td>712000</td>\n",
       "      <td>43491</td>\n",
       "      <td>31168523000</td>\n",
       "      <td>51387628000000</td>\n",
       "      <td>71174000</td>\n",
       "      <td>STK</td>\n",
       "    </tr>\n",
       "    <tr>\n",
       "      <th>4</th>\n",
       "      <td>005935</td>\n",
       "      <td>KR7005931001</td>\n",
       "      <td>삼성전자우</td>\n",
       "      <td>KOSPI</td>\n",
       "      <td></td>\n",
       "      <td>59200</td>\n",
       "      <td>2</td>\n",
       "      <td>-100</td>\n",
       "      <td>-0.17</td>\n",
       "      <td>59300</td>\n",
       "      <td>59600</td>\n",
       "      <td>59000</td>\n",
       "      <td>302445</td>\n",
       "      <td>17924673500</td>\n",
       "      <td>48714892640000</td>\n",
       "      <td>822886700</td>\n",
       "      <td>STK</td>\n",
       "    </tr>\n",
       "    <tr>\n",
       "      <th>...</th>\n",
       "      <td>...</td>\n",
       "      <td>...</td>\n",
       "      <td>...</td>\n",
       "      <td>...</td>\n",
       "      <td>...</td>\n",
       "      <td>...</td>\n",
       "      <td>...</td>\n",
       "      <td>...</td>\n",
       "      <td>...</td>\n",
       "      <td>...</td>\n",
       "      <td>...</td>\n",
       "      <td>...</td>\n",
       "      <td>...</td>\n",
       "      <td>...</td>\n",
       "      <td>...</td>\n",
       "      <td>...</td>\n",
       "      <td>...</td>\n",
       "    </tr>\n",
       "    <tr>\n",
       "      <th>2729</th>\n",
       "      <td>001745</td>\n",
       "      <td>KR7001741008</td>\n",
       "      <td>SK네트웍스우</td>\n",
       "      <td>KOSPI</td>\n",
       "      <td></td>\n",
       "      <td>13500</td>\n",
       "      <td>2</td>\n",
       "      <td>-300</td>\n",
       "      <td>-2.17</td>\n",
       "      <td>23550</td>\n",
       "      <td>23550</td>\n",
       "      <td>13500</td>\n",
       "      <td>63932</td>\n",
       "      <td>1085168330</td>\n",
       "      <td>1534248000</td>\n",
       "      <td>113648</td>\n",
       "      <td>STK</td>\n",
       "    </tr>\n",
       "    <tr>\n",
       "      <th>2730</th>\n",
       "      <td>322190</td>\n",
       "      <td>KR7322190000</td>\n",
       "      <td>베른</td>\n",
       "      <td>KONEX</td>\n",
       "      <td>일반기업부</td>\n",
       "      <td>154</td>\n",
       "      <td>1</td>\n",
       "      <td>19</td>\n",
       "      <td>14.07</td>\n",
       "      <td>154</td>\n",
       "      <td>154</td>\n",
       "      <td>135</td>\n",
       "      <td>21029</td>\n",
       "      <td>3213887</td>\n",
       "      <td>1374480338</td>\n",
       "      <td>8925197</td>\n",
       "      <td>KNX</td>\n",
       "    </tr>\n",
       "    <tr>\n",
       "      <th>2731</th>\n",
       "      <td>308700</td>\n",
       "      <td>KR7308700004</td>\n",
       "      <td>테크엔</td>\n",
       "      <td>KONEX</td>\n",
       "      <td>일반기업부</td>\n",
       "      <td>289</td>\n",
       "      <td>1</td>\n",
       "      <td>34</td>\n",
       "      <td>13.33</td>\n",
       "      <td>255</td>\n",
       "      <td>289</td>\n",
       "      <td>255</td>\n",
       "      <td>5157</td>\n",
       "      <td>1480173</td>\n",
       "      <td>1156000000</td>\n",
       "      <td>4000000</td>\n",
       "      <td>KNX</td>\n",
       "    </tr>\n",
       "    <tr>\n",
       "      <th>2732</th>\n",
       "      <td>004565</td>\n",
       "      <td>KR7004561007</td>\n",
       "      <td>현대비앤지스틸우</td>\n",
       "      <td>KOSPI</td>\n",
       "      <td></td>\n",
       "      <td>9390</td>\n",
       "      <td>2</td>\n",
       "      <td>-1730</td>\n",
       "      <td>-15.56</td>\n",
       "      <td>11200</td>\n",
       "      <td>11200</td>\n",
       "      <td>9390</td>\n",
       "      <td>41208</td>\n",
       "      <td>415323680</td>\n",
       "      <td>1031510280</td>\n",
       "      <td>109852</td>\n",
       "      <td>STK</td>\n",
       "    </tr>\n",
       "    <tr>\n",
       "      <th>2733</th>\n",
       "      <td>000547</td>\n",
       "      <td>KR7000542001</td>\n",
       "      <td>흥국화재2우B</td>\n",
       "      <td>KOSPI</td>\n",
       "      <td></td>\n",
       "      <td>6000</td>\n",
       "      <td>2</td>\n",
       "      <td>-620</td>\n",
       "      <td>-9.37</td>\n",
       "      <td>6500</td>\n",
       "      <td>6500</td>\n",
       "      <td>5600</td>\n",
       "      <td>34267</td>\n",
       "      <td>206903170</td>\n",
       "      <td>921600000</td>\n",
       "      <td>153600</td>\n",
       "      <td>STK</td>\n",
       "    </tr>\n",
       "  </tbody>\n",
       "</table>\n",
       "<p>2734 rows × 17 columns</p>\n",
       "</div>"
      ],
      "text/plain": [
       "        Code        ISU_CD      Name Market   Dept   Close ChangeCode  \\\n",
       "0     005930  KR7005930003      삼성전자  KOSPI          71400          2   \n",
       "1     373220  KR7373220003  LG에너지솔루션  KOSPI         535000          2   \n",
       "2     000660  KR7000660001    SK하이닉스  KOSPI         114100          1   \n",
       "3     207940  KR7207940008  삼성바이오로직스  KOSPI         722000          2   \n",
       "4     005935  KR7005931001     삼성전자우  KOSPI          59200          2   \n",
       "...      ...           ...       ...    ...    ...     ...        ...   \n",
       "2729  001745  KR7001741008   SK네트웍스우  KOSPI          13500          2   \n",
       "2730  322190  KR7322190000        베른  KONEX  일반기업부     154          1   \n",
       "2731  308700  KR7308700004       테크엔  KONEX  일반기업부     289          1   \n",
       "2732  004565  KR7004561007  현대비앤지스틸우  KOSPI           9390          2   \n",
       "2733  000547  KR7000542001   흥국화재2우B  KOSPI           6000          2   \n",
       "\n",
       "      Changes  ChagesRatio    Open    High     Low   Volume        Amount  \\\n",
       "0        -100        -0.14   71200   72000   71100  6540023  467381527800   \n",
       "1      -15000        -2.73  538000  539000  530000  1692709  897342661500   \n",
       "2         700         0.62  113200  114800  112800  1241102  141317094823   \n",
       "3       -1000        -0.14  722000  723000  712000    43491   31168523000   \n",
       "4        -100        -0.17   59300   59600   59000   302445   17924673500   \n",
       "...       ...          ...     ...     ...     ...      ...           ...   \n",
       "2729     -300        -2.17   23550   23550   13500    63932    1085168330   \n",
       "2730       19        14.07     154     154     135    21029       3213887   \n",
       "2731       34        13.33     255     289     255     5157       1480173   \n",
       "2732    -1730       -15.56   11200   11200    9390    41208     415323680   \n",
       "2733     -620        -9.37    6500    6500    5600    34267     206903170   \n",
       "\n",
       "               Marcap      Stocks MarketId  \n",
       "0     426242474070000  5969782550      STK  \n",
       "1     125190000000000   234000000      STK  \n",
       "2      83065069846500   728002365      STK  \n",
       "3      51387628000000    71174000      STK  \n",
       "4      48714892640000   822886700      STK  \n",
       "...               ...         ...      ...  \n",
       "2729       1534248000      113648      STK  \n",
       "2730       1374480338     8925197      KNX  \n",
       "2731       1156000000     4000000      KNX  \n",
       "2732       1031510280      109852      STK  \n",
       "2733        921600000      153600      STK  \n",
       "\n",
       "[2734 rows x 17 columns]"
      ]
     },
     "execution_count": 3,
     "metadata": {},
     "output_type": "execute_result"
    }
   ],
   "source": [
    "# 도움말을 보고자 할때는 ? 를 사용하고 소스코드를 볼 때는 ??를 사용합니다.\n",
    "# 주피터 노트북에서는 함수나 메소드의 괄호 안에서 shift + tab 키를 누르면 도움말을 볼 수 있습니다.\n",
    "\n",
    "# fdr.StockListing??\n",
    "fdr.StockListing(\"KRX\")"
   ]
  },
  {
   "cell_type": "code",
   "execution_count": 4,
   "metadata": {},
   "outputs": [
    {
     "name": "stderr",
     "output_type": "stream",
     "text": [
      "100%|█████████████████████████████████████████████████████████████████████████████| 3104/3104 [00:04<00:00, 743.45it/s]\n"
     ]
    },
    {
     "data": {
      "text/html": [
       "<div>\n",
       "<style scoped>\n",
       "    .dataframe tbody tr th:only-of-type {\n",
       "        vertical-align: middle;\n",
       "    }\n",
       "\n",
       "    .dataframe tbody tr th {\n",
       "        vertical-align: top;\n",
       "    }\n",
       "\n",
       "    .dataframe thead th {\n",
       "        text-align: right;\n",
       "    }\n",
       "</style>\n",
       "<table border=\"1\" class=\"dataframe\">\n",
       "  <thead>\n",
       "    <tr style=\"text-align: right;\">\n",
       "      <th></th>\n",
       "      <th>Symbol</th>\n",
       "      <th>Name</th>\n",
       "      <th>Industry</th>\n",
       "      <th>IndustryCode</th>\n",
       "    </tr>\n",
       "  </thead>\n",
       "  <tbody>\n",
       "    <tr>\n",
       "      <th>0</th>\n",
       "      <td>TSM</td>\n",
       "      <td>Taiwan Semiconductor Manufacturing Co Ltd ADR</td>\n",
       "      <td>반도체</td>\n",
       "      <td>57101010</td>\n",
       "    </tr>\n",
       "    <tr>\n",
       "      <th>1</th>\n",
       "      <td>V</td>\n",
       "      <td>Visa Inc</td>\n",
       "      <td>온라인 서비스</td>\n",
       "      <td>57201030</td>\n",
       "    </tr>\n",
       "    <tr>\n",
       "      <th>2</th>\n",
       "      <td>BRK.B</td>\n",
       "      <td>Berkshire Hathaway Inc Class B</td>\n",
       "      <td>소비재 대기업</td>\n",
       "      <td>54401010</td>\n",
       "    </tr>\n",
       "    <tr>\n",
       "      <th>3</th>\n",
       "      <td>UNH</td>\n",
       "      <td>UnitedHealth Group Inc</td>\n",
       "      <td>의료 관리</td>\n",
       "      <td>56102020</td>\n",
       "    </tr>\n",
       "    <tr>\n",
       "      <th>4</th>\n",
       "      <td>LLY</td>\n",
       "      <td>Eli Lilly and Co</td>\n",
       "      <td>제약</td>\n",
       "      <td>56201040</td>\n",
       "    </tr>\n",
       "    <tr>\n",
       "      <th>...</th>\n",
       "      <td>...</td>\n",
       "      <td>...</td>\n",
       "      <td>...</td>\n",
       "      <td>...</td>\n",
       "    </tr>\n",
       "    <tr>\n",
       "      <th>3099</th>\n",
       "      <td>RSF RT WI</td>\n",
       "      <td>RiverNorth Capital and Income Fund Rights Exp ...</td>\n",
       "      <td>폐쇄형 펀드</td>\n",
       "      <td>55501030</td>\n",
       "    </tr>\n",
       "    <tr>\n",
       "      <th>3100</th>\n",
       "      <td>VTS WI</td>\n",
       "      <td>Vitesse Energy Inc</td>\n",
       "      <td>오일, 가스 탐사 및 생산</td>\n",
       "      <td>50102020</td>\n",
       "    </tr>\n",
       "    <tr>\n",
       "      <th>3101</th>\n",
       "      <td>KIO RT WI</td>\n",
       "      <td>KKR Income Opportunities Rights Exp 16th Feb 2...</td>\n",
       "      <td>폐쇄형 펀드</td>\n",
       "      <td>55501030</td>\n",
       "    </tr>\n",
       "    <tr>\n",
       "      <th>3102</th>\n",
       "      <td>IGR RT WI</td>\n",
       "      <td>CBRE Global Real Estate Income Rights When Iss...</td>\n",
       "      <td>폐쇄형 펀드</td>\n",
       "      <td>55501030</td>\n",
       "    </tr>\n",
       "    <tr>\n",
       "      <th>3103</th>\n",
       "      <td>KNF WI</td>\n",
       "      <td>Knife River Corp</td>\n",
       "      <td>건설 자재</td>\n",
       "      <td>51202010</td>\n",
       "    </tr>\n",
       "  </tbody>\n",
       "</table>\n",
       "<p>3104 rows × 4 columns</p>\n",
       "</div>"
      ],
      "text/plain": [
       "         Symbol                                               Name  \\\n",
       "0           TSM      Taiwan Semiconductor Manufacturing Co Ltd ADR   \n",
       "1             V                                           Visa Inc   \n",
       "2         BRK.B                     Berkshire Hathaway Inc Class B   \n",
       "3           UNH                             UnitedHealth Group Inc   \n",
       "4           LLY                                   Eli Lilly and Co   \n",
       "...         ...                                                ...   \n",
       "3099  RSF RT WI  RiverNorth Capital and Income Fund Rights Exp ...   \n",
       "3100     VTS WI                                 Vitesse Energy Inc   \n",
       "3101  KIO RT WI  KKR Income Opportunities Rights Exp 16th Feb 2...   \n",
       "3102  IGR RT WI  CBRE Global Real Estate Income Rights When Iss...   \n",
       "3103     KNF WI                                   Knife River Corp   \n",
       "\n",
       "            Industry IndustryCode  \n",
       "0                반도체     57101010  \n",
       "1            온라인 서비스     57201030  \n",
       "2            소비재 대기업     54401010  \n",
       "3              의료 관리     56102020  \n",
       "4                 제약     56201040  \n",
       "...              ...          ...  \n",
       "3099          폐쇄형 펀드     55501030  \n",
       "3100  오일, 가스 탐사 및 생산     50102020  \n",
       "3101          폐쇄형 펀드     55501030  \n",
       "3102          폐쇄형 펀드     55501030  \n",
       "3103           건설 자재     51202010  \n",
       "\n",
       "[3104 rows x 4 columns]"
      ]
     },
     "execution_count": 4,
     "metadata": {},
     "output_type": "execute_result"
    }
   ],
   "source": [
    "# KRX : KRX 종목 전체\n",
    "# KOSPI : KOSPI 종목\n",
    "# KOSDAQ : KOSDAQ 종목\n",
    "# KONEX : KONEX 종목\n",
    "# NASDAQ : 나스닥 종목\n",
    "# NYSE : 뉴욕증권거래소 종목\n",
    "# SP500 : S&P500 종목\n",
    "fdr.StockListing(\"NYSE\")"
   ]
  },
  {
   "cell_type": "code",
   "execution_count": null,
   "metadata": {
    "id": "s_U_Uzrnv9xc"
   },
   "outputs": [],
   "source": [
    "# 한국거래소 상장종목 전체 가져오기\n"
   ]
  },
  {
   "cell_type": "code",
   "execution_count": null,
   "metadata": {
    "id": "dZOPGobLv9xc",
    "scrolled": true
   },
   "outputs": [],
   "source": [
    "# 행과 열의 크기를 봅니다.(행, 열) 순\n"
   ]
  },
  {
   "cell_type": "code",
   "execution_count": null,
   "metadata": {
    "id": "h7ehpySkv9xc"
   },
   "outputs": [],
   "source": [
    "# 전체 데이터프레임의 요약정보를 봅니다.\n"
   ]
  },
  {
   "cell_type": "code",
   "execution_count": null,
   "metadata": {
    "id": "bBKW1Pk8v9xc"
   },
   "outputs": [],
   "source": [
    "# 기술통계 값을 요약합니다.\n"
   ]
  },
  {
   "cell_type": "markdown",
   "metadata": {
    "id": "r7DL2Bnfv9xc"
   },
   "source": [
    "## 파일로 저장하고 불러오기\n",
    "<img src=\"https://pandas.pydata.org/docs/_images/02_io_readwrite.svg\">"
   ]
  },
  {
   "cell_type": "code",
   "execution_count": null,
   "metadata": {},
   "outputs": [],
   "source": [
    "# head 로 미리보기\n"
   ]
  },
  {
   "cell_type": "code",
   "execution_count": null,
   "metadata": {
    "id": "_Ccxuc6Uv9xc"
   },
   "outputs": [],
   "source": [
    "# to_csv로 Dataframe을 데이터 저장용 파일인 CSV 파일로 바꿀 수 있습니다.\n"
   ]
  },
  {
   "cell_type": "code",
   "execution_count": null,
   "metadata": {
    "id": "XYvSVpP-v9xc"
   },
   "outputs": [],
   "source": [
    "# CSV로 저장된 파일을 다시 DataFrame으로 읽어서 확인해 봅니다.\n"
   ]
  },
  {
   "cell_type": "code",
   "execution_count": null,
   "metadata": {},
   "outputs": [],
   "source": []
  }
 ],
 "metadata": {
  "colab": {
   "collapsed_sections": [],
   "name": "1. FinanceDataReader를 통한 상장종목 전체 불러오기.ipynb",
   "provenance": [],
   "toc_visible": true
  },
  "kernelspec": {
   "display_name": "Python 3 (ipykernel)",
   "language": "python",
   "name": "python3"
  },
  "language_info": {
   "codemirror_mode": {
    "name": "ipython",
    "version": 3
   },
   "file_extension": ".py",
   "mimetype": "text/x-python",
   "name": "python",
   "nbconvert_exporter": "python",
   "pygments_lexer": "ipython3",
   "version": "3.9.15"
  },
  "toc": {
   "base_numbering": 1,
   "nav_menu": {},
   "number_sections": true,
   "sideBar": true,
   "skip_h1_title": false,
   "title_cell": "Table of Contents",
   "title_sidebar": "Contents",
   "toc_cell": false,
   "toc_position": {},
   "toc_section_display": true,
   "toc_window_display": true
  },
  "varInspector": {
   "cols": {
    "lenName": 16,
    "lenType": 16,
    "lenVar": 40
   },
   "kernels_config": {
    "python": {
     "delete_cmd_postfix": "",
     "delete_cmd_prefix": "del ",
     "library": "var_list.py",
     "varRefreshCmd": "print(var_dic_list())"
    },
    "r": {
     "delete_cmd_postfix": ") ",
     "delete_cmd_prefix": "rm(",
     "library": "var_list.r",
     "varRefreshCmd": "cat(var_dic_list()) "
    }
   },
   "types_to_exclude": [
    "module",
    "function",
    "builtin_function_or_method",
    "instance",
    "_Feature"
   ],
   "window_display": false
  }
 },
 "nbformat": 4,
 "nbformat_minor": 1
}
