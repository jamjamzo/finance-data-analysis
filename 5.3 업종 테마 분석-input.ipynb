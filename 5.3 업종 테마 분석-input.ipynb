{
 "cells": [
  {
   "cell_type": "markdown",
   "metadata": {
    "id": "N1aXMBB33W3h"
   },
   "source": [
    "[![Open In Colab](https://colab.research.google.com/assets/colab-badge.svg)](https://colab.research.google.com/github/corazzon/finance-data-analysis/blob/main/5.3%20%EC%97%85%EC%A2%85%20%ED%85%8C%EB%A7%88%20%EB%B6%84%EC%84%9D-input.ipynb)\n",
    "\n",
    "## 업종/테마주 분석\n",
    "\n",
    "* 팀장님이 우리 회사와 유사한 업종과 테마로 사업을 하고 있는 종목을 수집해서 분석해 달라는 미션을 주셨습니다.\n",
    "* 코스피에서 해당 업종 혹은 테마의 시가총액이 가장 많은 종목을 찾아주세요.\n",
    "* 해당 업종/테마의 거래량이 가장 많은 종목을 찾아주세요.\n",
    "* 최근 52주 최고가에서 현재가 기준으로 가장 손실이 크게 난 종목은 어떤 종목일까요?\n",
    "* 거래대금이 20위 안에 있는 코스피 종목 중에 \"PER\"가 가장 낮은 종목은 무엇일까요?\n",
    "* 아래 실습결과에 다른 테마를 적용해 보면 같은 방식으로 여러 테마를 분석해 보실 수 있습니다.\n",
    "\n"
   ]
  },
  {
   "cell_type": "markdown",
   "metadata": {},
   "source": [
    "## 라이브러리 로드"
   ]
  },
  {
   "cell_type": "code",
   "execution_count": 1,
   "metadata": {
    "id": "kgkrSMtY3W3h"
   },
   "outputs": [],
   "source": [
    "import pandas as pd\n",
    "import numpy as np\n",
    "import matplotlib.pyplot as plt\n",
    "import seaborn as sns"
   ]
  },
  {
   "cell_type": "markdown",
   "metadata": {},
   "source": [
    "## 시각화를 위한 한글폰트 설정"
   ]
  },
  {
   "cell_type": "code",
   "execution_count": 3,
   "metadata": {},
   "outputs": [],
   "source": [
    "def get_font_family():\n",
    "    \"\"\"\n",
    "    시스템 환경에 따른 기본 폰트명을 반환하는 함수\n",
    "    \"\"\"\n",
    "    import platform\n",
    "    system_name = platform.system()\n",
    "    # colab 사용자는 system_name이 'Linux'로 확인\n",
    "\n",
    "    if system_name == \"Darwin\" :\n",
    "        font_family = \"AppleGothic\"\n",
    "    elif system_name == \"Windows\":\n",
    "        font_family = \"Malgun Gothic\"\n",
    "    else:\n",
    "        !apt-get install fonts-nanum -qq  > /dev/null\n",
    "        !fc-cache -fv\n",
    "\n",
    "        import matplotlib as mpl\n",
    "        mpl.font_manager._rebuild()\n",
    "        findfont = mpl.font_manager.fontManager.findfont\n",
    "        mpl.font_manager.findfont = findfont\n",
    "        mpl.backends.backend_agg.findfont = findfont\n",
    "        \n",
    "        font_family = \"NanumBarunGothic\"\n",
    "    return font_family"
   ]
  },
  {
   "cell_type": "code",
   "execution_count": 6,
   "metadata": {},
   "outputs": [],
   "source": [
    "font_family = get_font_family()"
   ]
  },
  {
   "cell_type": "code",
   "execution_count": 7,
   "metadata": {},
   "outputs": [
    {
     "name": "stdout",
     "output_type": "stream",
     "text": [
      "['Solarize_Light2', '_classic_test_patch', '_mpl-gallery', '_mpl-gallery-nogrid', 'bmh', 'classic', 'dark_background', 'fast', 'fivethirtyeight', 'ggplot', 'grayscale', 'seaborn-v0_8', 'seaborn-v0_8-bright', 'seaborn-v0_8-colorblind', 'seaborn-v0_8-dark', 'seaborn-v0_8-dark-palette', 'seaborn-v0_8-darkgrid', 'seaborn-v0_8-deep', 'seaborn-v0_8-muted', 'seaborn-v0_8-notebook', 'seaborn-v0_8-paper', 'seaborn-v0_8-pastel', 'seaborn-v0_8-poster', 'seaborn-v0_8-talk', 'seaborn-v0_8-ticks', 'seaborn-v0_8-white', 'seaborn-v0_8-whitegrid', 'tableau-colorblind10']\n"
     ]
    }
   ],
   "source": [
    "print(plt.style.available)"
   ]
  },
  {
   "cell_type": "code",
   "execution_count": 18,
   "metadata": {},
   "outputs": [
    {
     "name": "stderr",
     "output_type": "stream",
     "text": [
      "C:\\Users\\petpulslab\\AppData\\Local\\Temp\\ipykernel_32384\\3783748683.py:9: DeprecationWarning: `set_matplotlib_formats` is deprecated since IPython 7.23, directly use `matplotlib_inline.backend_inline.set_matplotlib_formats()`\n",
      "  set_matplotlib_formats(\"svg\")\n"
     ]
    }
   ],
   "source": [
    "# 그래프 스타일 설정\n",
    "plt.style.use(\"fivethirtyeight\")\n",
    "# 폰트설정\n",
    "plt.rc(\"font\", family=font_family)\n",
    "# 마이너스폰트 설정\n",
    "plt.rc(\"axes\", unicode_minus=False)\n",
    "# 그래프에 retina display 적용\n",
    "from IPython.display import set_matplotlib_formats\n",
    "set_matplotlib_formats(\"svg\")"
   ]
  },
  {
   "cell_type": "code",
   "execution_count": 19,
   "metadata": {
    "id": "6LOH_j7T3W3h"
   },
   "outputs": [
    {
     "data": {
      "text/plain": [
       "<Axes: title={'center': '한글 폰트'}>"
      ]
     },
     "execution_count": 19,
     "metadata": {},
     "output_type": "execute_result"
    },
    {
     "data": {
      "image/svg+xml": [
       "<?xml version=\"1.0\" encoding=\"utf-8\" standalone=\"no\"?>\n",
       "<!DOCTYPE svg PUBLIC \"-//W3C//DTD SVG 1.1//EN\"\n",
       "  \"http://www.w3.org/Graphics/SVG/1.1/DTD/svg11.dtd\">\n",
       "<svg xmlns:xlink=\"http://www.w3.org/1999/xlink\" width=\"532.129375pt\" height=\"373.4221pt\" viewBox=\"0 0 532.129375 373.4221\" xmlns=\"http://www.w3.org/2000/svg\" version=\"1.1\">\n",
       " <metadata>\n",
       "  <rdf:RDF xmlns:dc=\"http://purl.org/dc/elements/1.1/\" xmlns:cc=\"http://creativecommons.org/ns#\" xmlns:rdf=\"http://www.w3.org/1999/02/22-rdf-syntax-ns#\">\n",
       "   <cc:Work>\n",
       "    <dc:type rdf:resource=\"http://purl.org/dc/dcmitype/StillImage\"/>\n",
       "    <dc:date>2023-09-11T10:07:20.681419</dc:date>\n",
       "    <dc:format>image/svg+xml</dc:format>\n",
       "    <dc:creator>\n",
       "     <cc:Agent>\n",
       "      <dc:title>Matplotlib v3.7.1, https://matplotlib.org/</dc:title>\n",
       "     </cc:Agent>\n",
       "    </dc:creator>\n",
       "   </cc:Work>\n",
       "  </rdf:RDF>\n",
       " </metadata>\n",
       " <defs>\n",
       "  <style type=\"text/css\">*{stroke-linejoin: round; stroke-linecap: butt}</style>\n",
       " </defs>\n",
       " <g id=\"figure_1\">\n",
       "  <g id=\"patch_1\">\n",
       "   <path d=\"M 0 373.4221 \n",
       "L 532.129375 373.4221 \n",
       "L 532.129375 0 \n",
       "L 0 0 \n",
       "z\n",
       "\" style=\"fill: #f0f0f0\"/>\n",
       "  </g>\n",
       "  <g id=\"axes_1\">\n",
       "   <g id=\"patch_2\">\n",
       "    <path d=\"M 23.809375 349.26585 \n",
       "L 524.929375 349.26585 \n",
       "L 524.929375 28.50585 \n",
       "L 23.809375 28.50585 \n",
       "z\n",
       "\" style=\"fill: #f0f0f0\"/>\n",
       "   </g>\n",
       "   <g id=\"matplotlib.axis_1\">\n",
       "    <g id=\"xtick_1\">\n",
       "     <g id=\"line2d_1\">\n",
       "      <path d=\"M 46.587557 349.26585 \n",
       "L 46.587557 28.50585 \n",
       "\" clip-path=\"url(#pf1ea931f4f)\" style=\"fill: none; stroke: #cbcbcb\"/>\n",
       "     </g>\n",
       "     <g id=\"line2d_2\"/>\n",
       "     <g id=\"text_1\">\n",
       "      <!-- 0.0 -->\n",
       "      <g style=\"fill: #262626\" transform=\"translate(39.985994 363.858038) scale(0.1 -0.1)\">\n",
       "       <defs>\n",
       "        <path id=\"MalgunGothic-30\" d=\"M 278 2206 \n",
       "Q 278 3425 675 4050 \n",
       "Q 1072 4675 1819 4675 \n",
       "Q 3253 4675 3253 2319 \n",
       "Q 3253 1156 2854 539 \n",
       "Q 2456 -78 1716 -78 \n",
       "Q 1016 -78 647 520 \n",
       "Q 278 1119 278 2206 \n",
       "z\n",
       "M 784 2231 \n",
       "Q 784 344 1769 344 \n",
       "Q 2747 344 2747 2259 \n",
       "Q 2747 4250 1794 4250 \n",
       "Q 784 4250 784 2231 \n",
       "z\n",
       "\" transform=\"scale(0.015625)\"/>\n",
       "        <path id=\"MalgunGothic-2e\" d=\"M 356 275 \n",
       "Q 356 422 459 523 \n",
       "Q 563 625 700 625 \n",
       "Q 838 625 941 523 \n",
       "Q 1044 422 1044 275 \n",
       "Q 1044 138 942 33 \n",
       "Q 841 -72 700 -72 \n",
       "Q 559 -72 457 29 \n",
       "Q 356 131 356 275 \n",
       "z\n",
       "\" transform=\"scale(0.015625)\"/>\n",
       "       </defs>\n",
       "       <use xlink:href=\"#MalgunGothic-30\"/>\n",
       "       <use xlink:href=\"#MalgunGothic-2e\" x=\"55.078125\"/>\n",
       "       <use xlink:href=\"#MalgunGothic-30\" x=\"76.953125\"/>\n",
       "      </g>\n",
       "     </g>\n",
       "    </g>\n",
       "    <g id=\"xtick_2\">\n",
       "     <g id=\"line2d_3\">\n",
       "      <path d=\"M 103.533011 349.26585 \n",
       "L 103.533011 28.50585 \n",
       "\" clip-path=\"url(#pf1ea931f4f)\" style=\"fill: none; stroke: #cbcbcb\"/>\n",
       "     </g>\n",
       "     <g id=\"line2d_4\"/>\n",
       "     <g id=\"text_2\">\n",
       "      <!-- 0.5 -->\n",
       "      <g style=\"fill: #262626\" transform=\"translate(96.931449 363.858038) scale(0.1 -0.1)\">\n",
       "       <defs>\n",
       "        <path id=\"MalgunGothic-35\" d=\"M 3072 1403 \n",
       "Q 3072 722 2636 322 \n",
       "Q 2200 -78 1469 -78 \n",
       "Q 828 -78 516 113 \n",
       "L 516 650 \n",
       "Q 994 344 1475 344 \n",
       "Q 1969 344 2270 630 \n",
       "Q 2572 916 2572 1372 \n",
       "Q 2572 1838 2265 2092 \n",
       "Q 1959 2347 1381 2347 \n",
       "Q 994 2347 603 2300 \n",
       "L 759 4600 \n",
       "L 2869 4600 \n",
       "L 2869 4147 \n",
       "L 1206 4147 \n",
       "L 1106 2763 \n",
       "Q 1347 2784 1547 2784 \n",
       "Q 2263 2784 2667 2414 \n",
       "Q 3072 2044 3072 1403 \n",
       "z\n",
       "\" transform=\"scale(0.015625)\"/>\n",
       "       </defs>\n",
       "       <use xlink:href=\"#MalgunGothic-30\"/>\n",
       "       <use xlink:href=\"#MalgunGothic-2e\" x=\"55.078125\"/>\n",
       "       <use xlink:href=\"#MalgunGothic-35\" x=\"76.953125\"/>\n",
       "      </g>\n",
       "     </g>\n",
       "    </g>\n",
       "    <g id=\"xtick_3\">\n",
       "     <g id=\"line2d_5\">\n",
       "      <path d=\"M 160.478466 349.26585 \n",
       "L 160.478466 28.50585 \n",
       "\" clip-path=\"url(#pf1ea931f4f)\" style=\"fill: none; stroke: #cbcbcb\"/>\n",
       "     </g>\n",
       "     <g id=\"line2d_6\"/>\n",
       "     <g id=\"text_3\">\n",
       "      <!-- 1.0 -->\n",
       "      <g style=\"fill: #262626\" transform=\"translate(153.876903 363.858038) scale(0.1 -0.1)\">\n",
       "       <defs>\n",
       "        <path id=\"MalgunGothic-31\" d=\"M 2231 0 \n",
       "L 1734 0 \n",
       "L 1734 3972 \n",
       "Q 1591 3828 1266 3661 \n",
       "Q 941 3494 672 3428 \n",
       "L 672 3959 \n",
       "Q 1016 4056 1409 4275 \n",
       "Q 1803 4494 2031 4700 \n",
       "L 2231 4700 \n",
       "L 2231 0 \n",
       "z\n",
       "\" transform=\"scale(0.015625)\"/>\n",
       "       </defs>\n",
       "       <use xlink:href=\"#MalgunGothic-31\"/>\n",
       "       <use xlink:href=\"#MalgunGothic-2e\" x=\"55.078125\"/>\n",
       "       <use xlink:href=\"#MalgunGothic-30\" x=\"76.953125\"/>\n",
       "      </g>\n",
       "     </g>\n",
       "    </g>\n",
       "    <g id=\"xtick_4\">\n",
       "     <g id=\"line2d_7\">\n",
       "      <path d=\"M 217.42392 349.26585 \n",
       "L 217.42392 28.50585 \n",
       "\" clip-path=\"url(#pf1ea931f4f)\" style=\"fill: none; stroke: #cbcbcb\"/>\n",
       "     </g>\n",
       "     <g id=\"line2d_8\"/>\n",
       "     <g id=\"text_4\">\n",
       "      <!-- 1.5 -->\n",
       "      <g style=\"fill: #262626\" transform=\"translate(210.822358 363.858038) scale(0.1 -0.1)\">\n",
       "       <use xlink:href=\"#MalgunGothic-31\"/>\n",
       "       <use xlink:href=\"#MalgunGothic-2e\" x=\"55.078125\"/>\n",
       "       <use xlink:href=\"#MalgunGothic-35\" x=\"76.953125\"/>\n",
       "      </g>\n",
       "     </g>\n",
       "    </g>\n",
       "    <g id=\"xtick_5\">\n",
       "     <g id=\"line2d_9\">\n",
       "      <path d=\"M 274.369375 349.26585 \n",
       "L 274.369375 28.50585 \n",
       "\" clip-path=\"url(#pf1ea931f4f)\" style=\"fill: none; stroke: #cbcbcb\"/>\n",
       "     </g>\n",
       "     <g id=\"line2d_10\"/>\n",
       "     <g id=\"text_5\">\n",
       "      <!-- 2.0 -->\n",
       "      <g style=\"fill: #262626\" transform=\"translate(267.767812 363.858038) scale(0.1 -0.1)\">\n",
       "       <defs>\n",
       "        <path id=\"MalgunGothic-32\" d=\"M 2519 3372 \n",
       "Q 2519 3784 2275 4018 \n",
       "Q 2031 4253 1628 4253 \n",
       "Q 1341 4253 1053 4104 \n",
       "Q 766 3956 534 3697 \n",
       "L 534 4234 \n",
       "Q 981 4675 1691 4675 \n",
       "Q 2281 4675 2642 4334 \n",
       "Q 3003 3994 3003 3416 \n",
       "Q 3003 2919 2772 2545 \n",
       "Q 2541 2172 1984 1775 \n",
       "Q 1459 1406 1254 1215 \n",
       "Q 1050 1025 967 854 \n",
       "Q 884 684 884 450 \n",
       "L 3116 450 \n",
       "L 3116 0 \n",
       "L 356 0 \n",
       "L 356 225 \n",
       "Q 356 603 461 870 \n",
       "Q 566 1138 811 1392 \n",
       "Q 1056 1647 1597 2022 \n",
       "Q 2091 2363 2305 2670 \n",
       "Q 2519 2978 2519 3372 \n",
       "z\n",
       "\" transform=\"scale(0.015625)\"/>\n",
       "       </defs>\n",
       "       <use xlink:href=\"#MalgunGothic-32\"/>\n",
       "       <use xlink:href=\"#MalgunGothic-2e\" x=\"55.078125\"/>\n",
       "       <use xlink:href=\"#MalgunGothic-30\" x=\"76.953125\"/>\n",
       "      </g>\n",
       "     </g>\n",
       "    </g>\n",
       "    <g id=\"xtick_6\">\n",
       "     <g id=\"line2d_11\">\n",
       "      <path d=\"M 331.31483 349.26585 \n",
       "L 331.31483 28.50585 \n",
       "\" clip-path=\"url(#pf1ea931f4f)\" style=\"fill: none; stroke: #cbcbcb\"/>\n",
       "     </g>\n",
       "     <g id=\"line2d_12\"/>\n",
       "     <g id=\"text_6\">\n",
       "      <!-- 2.5 -->\n",
       "      <g style=\"fill: #262626\" transform=\"translate(324.713267 363.858038) scale(0.1 -0.1)\">\n",
       "       <use xlink:href=\"#MalgunGothic-32\"/>\n",
       "       <use xlink:href=\"#MalgunGothic-2e\" x=\"55.078125\"/>\n",
       "       <use xlink:href=\"#MalgunGothic-35\" x=\"76.953125\"/>\n",
       "      </g>\n",
       "     </g>\n",
       "    </g>\n",
       "    <g id=\"xtick_7\">\n",
       "     <g id=\"line2d_13\">\n",
       "      <path d=\"M 388.260284 349.26585 \n",
       "L 388.260284 28.50585 \n",
       "\" clip-path=\"url(#pf1ea931f4f)\" style=\"fill: none; stroke: #cbcbcb\"/>\n",
       "     </g>\n",
       "     <g id=\"line2d_14\"/>\n",
       "     <g id=\"text_7\">\n",
       "      <!-- 3.0 -->\n",
       "      <g style=\"fill: #262626\" transform=\"translate(381.658722 363.858038) scale(0.1 -0.1)\">\n",
       "       <defs>\n",
       "        <path id=\"MalgunGothic-33\" d=\"M 416 719 \n",
       "Q 891 344 1478 344 \n",
       "Q 1959 344 2254 587 \n",
       "Q 2550 831 2550 1247 \n",
       "Q 2550 2169 1253 2169 \n",
       "L 872 2169 \n",
       "L 872 2591 \n",
       "L 1234 2591 \n",
       "Q 2388 2591 2388 3453 \n",
       "Q 2388 4250 1509 4250 \n",
       "Q 1022 4250 594 3916 \n",
       "L 594 4413 \n",
       "Q 1031 4675 1634 4675 \n",
       "Q 2184 4675 2539 4372 \n",
       "Q 2894 4069 2894 3581 \n",
       "Q 2894 2678 1972 2409 \n",
       "L 1972 2400 \n",
       "Q 2469 2356 2764 2053 \n",
       "Q 3059 1750 3059 1300 \n",
       "Q 3059 672 2604 297 \n",
       "Q 2150 -78 1450 -78 \n",
       "Q 806 -78 416 169 \n",
       "L 416 719 \n",
       "z\n",
       "\" transform=\"scale(0.015625)\"/>\n",
       "       </defs>\n",
       "       <use xlink:href=\"#MalgunGothic-33\"/>\n",
       "       <use xlink:href=\"#MalgunGothic-2e\" x=\"55.078125\"/>\n",
       "       <use xlink:href=\"#MalgunGothic-30\" x=\"76.953125\"/>\n",
       "      </g>\n",
       "     </g>\n",
       "    </g>\n",
       "    <g id=\"xtick_8\">\n",
       "     <g id=\"line2d_15\">\n",
       "      <path d=\"M 445.205739 349.26585 \n",
       "L 445.205739 28.50585 \n",
       "\" clip-path=\"url(#pf1ea931f4f)\" style=\"fill: none; stroke: #cbcbcb\"/>\n",
       "     </g>\n",
       "     <g id=\"line2d_16\"/>\n",
       "     <g id=\"text_8\">\n",
       "      <!-- 3.5 -->\n",
       "      <g style=\"fill: #262626\" transform=\"translate(438.604176 363.858038) scale(0.1 -0.1)\">\n",
       "       <use xlink:href=\"#MalgunGothic-33\"/>\n",
       "       <use xlink:href=\"#MalgunGothic-2e\" x=\"55.078125\"/>\n",
       "       <use xlink:href=\"#MalgunGothic-35\" x=\"76.953125\"/>\n",
       "      </g>\n",
       "     </g>\n",
       "    </g>\n",
       "    <g id=\"xtick_9\">\n",
       "     <g id=\"line2d_17\">\n",
       "      <path d=\"M 502.151193 349.26585 \n",
       "L 502.151193 28.50585 \n",
       "\" clip-path=\"url(#pf1ea931f4f)\" style=\"fill: none; stroke: #cbcbcb\"/>\n",
       "     </g>\n",
       "     <g id=\"line2d_18\"/>\n",
       "     <g id=\"text_9\">\n",
       "      <!-- 4.0 -->\n",
       "      <g style=\"fill: #262626\" transform=\"translate(495.549631 363.858038) scale(0.1 -0.1)\">\n",
       "       <defs>\n",
       "        <path id=\"MalgunGothic-34\" d=\"M 2703 4600 \n",
       "L 2703 1563 \n",
       "L 3309 1563 \n",
       "L 3309 1113 \n",
       "L 2703 1113 \n",
       "L 2703 0 \n",
       "L 2213 0 \n",
       "L 2213 1113 \n",
       "L 50 1113 \n",
       "L 50 1534 \n",
       "Q 728 2297 1295 3109 \n",
       "Q 1863 3922 2172 4600 \n",
       "L 2703 4600 \n",
       "z\n",
       "M 625 1563 \n",
       "L 2213 1563 \n",
       "L 2213 3831 \n",
       "Q 1613 2788 959 1981 \n",
       "L 625 1563 \n",
       "z\n",
       "\" transform=\"scale(0.015625)\"/>\n",
       "       </defs>\n",
       "       <use xlink:href=\"#MalgunGothic-34\"/>\n",
       "       <use xlink:href=\"#MalgunGothic-2e\" x=\"55.078125\"/>\n",
       "       <use xlink:href=\"#MalgunGothic-30\" x=\"76.953125\"/>\n",
       "      </g>\n",
       "     </g>\n",
       "    </g>\n",
       "   </g>\n",
       "   <g id=\"matplotlib.axis_2\">\n",
       "    <g id=\"ytick_1\">\n",
       "     <g id=\"line2d_19\">\n",
       "      <path d=\"M 23.809375 316.46085 \n",
       "L 524.929375 316.46085 \n",
       "\" clip-path=\"url(#pf1ea931f4f)\" style=\"fill: none; stroke: #cbcbcb\"/>\n",
       "     </g>\n",
       "     <g id=\"line2d_20\"/>\n",
       "     <g id=\"text_10\">\n",
       "      <!-- -6 -->\n",
       "      <g style=\"fill: #262626\" transform=\"translate(7.2 320.256944) scale(0.1 -0.1)\">\n",
       "       <defs>\n",
       "        <path id=\"MalgunGothic-2d\" d=\"M 2213 1634 \n",
       "L 463 1634 \n",
       "L 463 2031 \n",
       "L 2213 2031 \n",
       "L 2213 1634 \n",
       "z\n",
       "\" transform=\"scale(0.015625)\"/>\n",
       "        <path id=\"MalgunGothic-36\" d=\"M 2981 4069 \n",
       "Q 2619 4250 2228 4250 \n",
       "Q 1591 4250 1228 3689 \n",
       "Q 866 3128 869 2213 \n",
       "L 884 2213 \n",
       "Q 1203 2872 1938 2872 \n",
       "Q 2547 2872 2903 2478 \n",
       "Q 3259 2084 3259 1450 \n",
       "Q 3259 797 2857 359 \n",
       "Q 2456 -78 1825 -78 \n",
       "Q 1116 -78 736 478 \n",
       "Q 356 1034 356 2019 \n",
       "Q 356 3181 847 3928 \n",
       "Q 1338 4675 2222 4675 \n",
       "Q 2700 4675 2981 4544 \n",
       "L 2981 4069 \n",
       "z\n",
       "M 906 1506 \n",
       "Q 906 1022 1165 683 \n",
       "Q 1425 344 1844 344 \n",
       "Q 2247 344 2498 645 \n",
       "Q 2750 947 2750 1388 \n",
       "Q 2750 1888 2509 2167 \n",
       "Q 2269 2447 1838 2447 \n",
       "Q 1444 2447 1175 2173 \n",
       "Q 906 1900 906 1506 \n",
       "z\n",
       "\" transform=\"scale(0.015625)\"/>\n",
       "       </defs>\n",
       "       <use xlink:href=\"#MalgunGothic-2d\"/>\n",
       "       <use xlink:href=\"#MalgunGothic-36\" x=\"41.015625\"/>\n",
       "      </g>\n",
       "     </g>\n",
       "    </g>\n",
       "    <g id=\"ytick_2\">\n",
       "     <g id=\"line2d_21\">\n",
       "      <path d=\"M 23.809375 280.01085 \n",
       "L 524.929375 280.01085 \n",
       "\" clip-path=\"url(#pf1ea931f4f)\" style=\"fill: none; stroke: #cbcbcb\"/>\n",
       "     </g>\n",
       "     <g id=\"line2d_22\"/>\n",
       "     <g id=\"text_11\">\n",
       "      <!-- -4 -->\n",
       "      <g style=\"fill: #262626\" transform=\"translate(7.2 283.806944) scale(0.1 -0.1)\">\n",
       "       <use xlink:href=\"#MalgunGothic-2d\"/>\n",
       "       <use xlink:href=\"#MalgunGothic-34\" x=\"41.015625\"/>\n",
       "      </g>\n",
       "     </g>\n",
       "    </g>\n",
       "    <g id=\"ytick_3\">\n",
       "     <g id=\"line2d_23\">\n",
       "      <path d=\"M 23.809375 243.56085 \n",
       "L 524.929375 243.56085 \n",
       "\" clip-path=\"url(#pf1ea931f4f)\" style=\"fill: none; stroke: #cbcbcb\"/>\n",
       "     </g>\n",
       "     <g id=\"line2d_24\"/>\n",
       "     <g id=\"text_12\">\n",
       "      <!-- -2 -->\n",
       "      <g style=\"fill: #262626\" transform=\"translate(7.2 247.356944) scale(0.1 -0.1)\">\n",
       "       <use xlink:href=\"#MalgunGothic-2d\"/>\n",
       "       <use xlink:href=\"#MalgunGothic-32\" x=\"41.015625\"/>\n",
       "      </g>\n",
       "     </g>\n",
       "    </g>\n",
       "    <g id=\"ytick_4\">\n",
       "     <g id=\"line2d_25\">\n",
       "      <path d=\"M 23.809375 207.11085 \n",
       "L 524.929375 207.11085 \n",
       "\" clip-path=\"url(#pf1ea931f4f)\" style=\"fill: none; stroke: #cbcbcb\"/>\n",
       "     </g>\n",
       "     <g id=\"line2d_26\"/>\n",
       "     <g id=\"text_13\">\n",
       "      <!-- 0 -->\n",
       "      <g style=\"fill: #262626\" transform=\"translate(11.301562 210.906944) scale(0.1 -0.1)\">\n",
       "       <use xlink:href=\"#MalgunGothic-30\"/>\n",
       "      </g>\n",
       "     </g>\n",
       "    </g>\n",
       "    <g id=\"ytick_5\">\n",
       "     <g id=\"line2d_27\">\n",
       "      <path d=\"M 23.809375 170.66085 \n",
       "L 524.929375 170.66085 \n",
       "\" clip-path=\"url(#pf1ea931f4f)\" style=\"fill: none; stroke: #cbcbcb\"/>\n",
       "     </g>\n",
       "     <g id=\"line2d_28\"/>\n",
       "     <g id=\"text_14\">\n",
       "      <!-- 2 -->\n",
       "      <g style=\"fill: #262626\" transform=\"translate(11.301562 174.456944) scale(0.1 -0.1)\">\n",
       "       <use xlink:href=\"#MalgunGothic-32\"/>\n",
       "      </g>\n",
       "     </g>\n",
       "    </g>\n",
       "    <g id=\"ytick_6\">\n",
       "     <g id=\"line2d_29\">\n",
       "      <path d=\"M 23.809375 134.21085 \n",
       "L 524.929375 134.21085 \n",
       "\" clip-path=\"url(#pf1ea931f4f)\" style=\"fill: none; stroke: #cbcbcb\"/>\n",
       "     </g>\n",
       "     <g id=\"line2d_30\"/>\n",
       "     <g id=\"text_15\">\n",
       "      <!-- 4 -->\n",
       "      <g style=\"fill: #262626\" transform=\"translate(11.301562 138.006944) scale(0.1 -0.1)\">\n",
       "       <use xlink:href=\"#MalgunGothic-34\"/>\n",
       "      </g>\n",
       "     </g>\n",
       "    </g>\n",
       "    <g id=\"ytick_7\">\n",
       "     <g id=\"line2d_31\">\n",
       "      <path d=\"M 23.809375 97.76085 \n",
       "L 524.929375 97.76085 \n",
       "\" clip-path=\"url(#pf1ea931f4f)\" style=\"fill: none; stroke: #cbcbcb\"/>\n",
       "     </g>\n",
       "     <g id=\"line2d_32\"/>\n",
       "     <g id=\"text_16\">\n",
       "      <!-- 6 -->\n",
       "      <g style=\"fill: #262626\" transform=\"translate(11.301562 101.556944) scale(0.1 -0.1)\">\n",
       "       <use xlink:href=\"#MalgunGothic-36\"/>\n",
       "      </g>\n",
       "     </g>\n",
       "    </g>\n",
       "    <g id=\"ytick_8\">\n",
       "     <g id=\"line2d_33\">\n",
       "      <path d=\"M 23.809375 61.31085 \n",
       "L 524.929375 61.31085 \n",
       "\" clip-path=\"url(#pf1ea931f4f)\" style=\"fill: none; stroke: #cbcbcb\"/>\n",
       "     </g>\n",
       "     <g id=\"line2d_34\"/>\n",
       "     <g id=\"text_17\">\n",
       "      <!-- 8 -->\n",
       "      <g style=\"fill: #262626\" transform=\"translate(11.301562 65.106944) scale(0.1 -0.1)\">\n",
       "       <defs>\n",
       "        <path id=\"MalgunGothic-38\" d=\"M 303 1281 \n",
       "Q 303 1669 539 2011 \n",
       "Q 775 2353 1153 2494 \n",
       "Q 856 2647 675 2915 \n",
       "Q 494 3184 494 3500 \n",
       "Q 494 3828 659 4098 \n",
       "Q 825 4369 1122 4522 \n",
       "Q 1419 4675 1778 4675 \n",
       "Q 2334 4675 2700 4342 \n",
       "Q 3066 4009 3066 3500 \n",
       "Q 3066 3181 2881 2914 \n",
       "Q 2697 2647 2413 2494 \n",
       "Q 2788 2350 3022 2009 \n",
       "Q 3256 1669 3256 1281 \n",
       "Q 3256 672 2843 297 \n",
       "Q 2431 -78 1778 -78 \n",
       "Q 1131 -78 717 301 \n",
       "Q 303 681 303 1281 \n",
       "z\n",
       "M 809 1328 \n",
       "Q 809 878 1081 611 \n",
       "Q 1353 344 1781 344 \n",
       "Q 2206 344 2482 619 \n",
       "Q 2759 894 2759 1328 \n",
       "Q 2759 1731 2482 2011 \n",
       "Q 2206 2291 1781 2291 \n",
       "Q 1372 2291 1090 2020 \n",
       "Q 809 1750 809 1328 \n",
       "z\n",
       "M 1003 3459 \n",
       "Q 1003 3125 1234 2900 \n",
       "Q 1466 2675 1781 2675 \n",
       "Q 2097 2675 2330 2900 \n",
       "Q 2563 3125 2563 3459 \n",
       "Q 2563 3803 2341 4026 \n",
       "Q 2119 4250 1781 4250 \n",
       "Q 1450 4250 1226 4029 \n",
       "Q 1003 3809 1003 3459 \n",
       "z\n",
       "\" transform=\"scale(0.015625)\"/>\n",
       "       </defs>\n",
       "       <use xlink:href=\"#MalgunGothic-38\"/>\n",
       "      </g>\n",
       "     </g>\n",
       "    </g>\n",
       "   </g>\n",
       "   <g id=\"line2d_35\">\n",
       "    <path d=\"M 46.587557 188.88585 \n",
       "L 160.478466 152.43585 \n",
       "L 274.369375 115.98585 \n",
       "L 388.260284 334.68585 \n",
       "L 502.151193 43.08585 \n",
       "\" clip-path=\"url(#pf1ea931f4f)\" style=\"fill: none; stroke: #008fd5; stroke-width: 4\"/>\n",
       "   </g>\n",
       "   <g id=\"patch_3\">\n",
       "    <path d=\"M 23.809375 349.26585 \n",
       "L 23.809375 28.50585 \n",
       "\" style=\"fill: none; stroke: #f0f0f0; stroke-width: 3; stroke-linejoin: miter; stroke-linecap: square\"/>\n",
       "   </g>\n",
       "   <g id=\"patch_4\">\n",
       "    <path d=\"M 524.929375 349.26585 \n",
       "L 524.929375 28.50585 \n",
       "\" style=\"fill: none; stroke: #f0f0f0; stroke-width: 3; stroke-linejoin: miter; stroke-linecap: square\"/>\n",
       "   </g>\n",
       "   <g id=\"patch_5\">\n",
       "    <path d=\"M 23.809375 349.26585 \n",
       "L 524.929375 349.26585 \n",
       "\" style=\"fill: none; stroke: #f0f0f0; stroke-width: 3; stroke-linejoin: miter; stroke-linecap: square\"/>\n",
       "   </g>\n",
       "   <g id=\"patch_6\">\n",
       "    <path d=\"M 23.809375 28.50585 \n",
       "L 524.929375 28.50585 \n",
       "\" style=\"fill: none; stroke: #f0f0f0; stroke-width: 3; stroke-linejoin: miter; stroke-linecap: square\"/>\n",
       "   </g>\n",
       "   <g id=\"text_18\">\n",
       "    <!-- 한글 폰트 -->\n",
       "    <g style=\"fill: #262626\" transform=\"translate(230.505625 22.50585) scale(0.2016 -0.2016)\">\n",
       "     <defs>\n",
       "      <path id=\"MalgunGothic-d55c\" d=\"M 5125 2713 \n",
       "L 5125 978 \n",
       "L 4659 978 \n",
       "L 4659 5466 \n",
       "L 5125 5466 \n",
       "L 5125 3138 \n",
       "L 6034 3138 \n",
       "L 6034 2713 \n",
       "L 5125 2713 \n",
       "z\n",
       "M 447 4244 \n",
       "L 447 4659 \n",
       "L 2003 4659 \n",
       "L 2003 5441 \n",
       "L 2478 5441 \n",
       "L 2478 4659 \n",
       "L 4031 4659 \n",
       "L 4031 4244 \n",
       "L 447 4244 \n",
       "z\n",
       "M 2241 1650 \n",
       "Q 1559 1650 1161 1979 \n",
       "Q 763 2309 763 2791 \n",
       "Q 763 3266 1161 3594 \n",
       "Q 1559 3922 2247 3922 \n",
       "Q 2931 3922 3331 3595 \n",
       "Q 3731 3269 3731 2791 \n",
       "Q 3731 2316 3329 1983 \n",
       "Q 2928 1650 2241 1650 \n",
       "z\n",
       "M 2247 3525 \n",
       "Q 1772 3525 1497 3319 \n",
       "Q 1222 3113 1222 2791 \n",
       "Q 1222 2466 1498 2256 \n",
       "Q 1775 2047 2247 2047 \n",
       "Q 2719 2047 2995 2256 \n",
       "Q 3272 2466 3272 2791 \n",
       "Q 3272 3113 2997 3319 \n",
       "Q 2722 3525 2247 3525 \n",
       "z\n",
       "M 1459 -453 \n",
       "L 1459 1216 \n",
       "L 1919 1216 \n",
       "L 1919 -38 \n",
       "L 5313 -38 \n",
       "L 5313 -453 \n",
       "L 1459 -453 \n",
       "z\n",
       "\" transform=\"scale(0.015625)\"/>\n",
       "      <path id=\"MalgunGothic-ae00\" d=\"M 403 2834 \n",
       "L 403 3250 \n",
       "L 4594 3250 \n",
       "Q 4634 3584 4634 4850 \n",
       "L 1338 4850 \n",
       "L 1338 5269 \n",
       "L 5100 5269 \n",
       "Q 5100 3853 5050 3250 \n",
       "L 5997 3250 \n",
       "L 5997 2834 \n",
       "L 403 2834 \n",
       "z\n",
       "M 1356 -384 \n",
       "L 1356 1113 \n",
       "L 4609 1100 \n",
       "L 4609 1747 \n",
       "L 1356 1747 \n",
       "L 1356 2163 \n",
       "L 5069 2163 \n",
       "L 5069 703 \n",
       "L 1819 703 \n",
       "L 1819 25 \n",
       "L 5234 25 \n",
       "L 5234 -384 \n",
       "L 1356 -384 \n",
       "z\n",
       "\" transform=\"scale(0.015625)\"/>\n",
       "      <path id=\"MalgunGothic-20\" transform=\"scale(0.015625)\"/>\n",
       "      <path id=\"MalgunGothic-d3f0\" d=\"M 1088 4831 \n",
       "L 1088 5247 \n",
       "L 5313 5247 \n",
       "L 5313 4831 \n",
       "L 1088 4831 \n",
       "z\n",
       "M 403 1784 \n",
       "L 403 2194 \n",
       "L 2963 2194 \n",
       "L 2963 2988 \n",
       "L 1013 2988 \n",
       "L 1013 3400 \n",
       "L 1900 3400 \n",
       "L 1838 4616 \n",
       "L 2297 4616 \n",
       "L 2363 3400 \n",
       "L 4038 3400 \n",
       "L 4103 4616 \n",
       "L 4563 4616 \n",
       "L 4500 3400 \n",
       "L 5388 3400 \n",
       "L 5388 2988 \n",
       "L 3438 2988 \n",
       "L 3438 2194 \n",
       "L 5997 2194 \n",
       "L 5997 1784 \n",
       "L 403 1784 \n",
       "z\n",
       "M 1325 -359 \n",
       "L 1325 1294 \n",
       "L 1791 1294 \n",
       "L 1791 56 \n",
       "L 5203 56 \n",
       "L 5203 -359 \n",
       "L 1325 -359 \n",
       "z\n",
       "\" transform=\"scale(0.015625)\"/>\n",
       "      <path id=\"MalgunGothic-d2b8\" d=\"M 5131 4469 \n",
       "L 1766 4469 \n",
       "L 1766 3597 \n",
       "L 4959 3597 \n",
       "L 4959 3181 \n",
       "L 1766 3181 \n",
       "L 1766 2356 \n",
       "L 5228 2356 \n",
       "L 5228 1941 \n",
       "L 1306 1941 \n",
       "L 1306 4878 \n",
       "L 5131 4878 \n",
       "L 5131 4469 \n",
       "z\n",
       "M 403 384 \n",
       "L 403 800 \n",
       "L 5997 800 \n",
       "L 5997 384 \n",
       "L 403 384 \n",
       "z\n",
       "\" transform=\"scale(0.015625)\"/>\n",
       "     </defs>\n",
       "     <use xlink:href=\"#MalgunGothic-d55c\"/>\n",
       "     <use xlink:href=\"#MalgunGothic-ae00\" x=\"100\"/>\n",
       "     <use xlink:href=\"#MalgunGothic-20\" x=\"200\"/>\n",
       "     <use xlink:href=\"#MalgunGothic-d3f0\" x=\"235.15625\"/>\n",
       "     <use xlink:href=\"#MalgunGothic-d2b8\" x=\"335.15625\"/>\n",
       "    </g>\n",
       "   </g>\n",
       "  </g>\n",
       " </g>\n",
       " <defs>\n",
       "  <clipPath id=\"pf1ea931f4f\">\n",
       "   <rect x=\"23.809375\" y=\"28.50585\" width=\"501.12\" height=\"320.76\"/>\n",
       "  </clipPath>\n",
       " </defs>\n",
       "</svg>\n"
      ],
      "text/plain": [
       "<Figure size 800x550 with 1 Axes>"
      ]
     },
     "metadata": {},
     "output_type": "display_data"
    }
   ],
   "source": [
    "# colab에서 한글폰트를 설정했음에도 폰트가 깨진다면 런타임 재시작 후 코드를 처음부터 다시 실행해 주세요!\n",
    "pd.Series([1,3,5,-7,9]).plot(title = '한글 폰트')"
   ]
  },
  {
   "cell_type": "markdown",
   "metadata": {},
   "source": [
    "## 데이터 로드"
   ]
  },
  {
   "cell_type": "code",
   "execution_count": 23,
   "metadata": {
    "id": "CKsCqpoA3W3i",
    "scrolled": true
   },
   "outputs": [],
   "source": [
    "# 테마주 수집시에 저장해 두었던 csv 파일을 다시 로드합니다.\n",
    "# 'upjong_no_35_2021-01-09_ver2.csv'\n",
    "# 종목코드는 object 형태로 불러옵니다.\n",
    "file_name = \"upjong_no_261_23-08-21_ver2.csv\"\n",
    "df = pd.read_csv(file_name, dtype={'종목코드':object})"
   ]
  },
  {
   "cell_type": "markdown",
   "metadata": {},
   "source": [
    "## 데이터 미리보기"
   ]
  },
  {
   "cell_type": "code",
   "execution_count": 25,
   "metadata": {},
   "outputs": [
    {
     "data": {
      "text/html": [
       "<div>\n",
       "<style scoped>\n",
       "    .dataframe tbody tr th:only-of-type {\n",
       "        vertical-align: middle;\n",
       "    }\n",
       "\n",
       "    .dataframe tbody tr th {\n",
       "        vertical-align: top;\n",
       "    }\n",
       "\n",
       "    .dataframe thead th {\n",
       "        text-align: right;\n",
       "    }\n",
       "</style>\n",
       "<table border=\"1\" class=\"dataframe\">\n",
       "  <thead>\n",
       "    <tr style=\"text-align: right;\">\n",
       "      <th></th>\n",
       "      <th>종목명</th>\n",
       "      <th>현재가</th>\n",
       "      <th>전일비</th>\n",
       "      <th>등락률</th>\n",
       "      <th>매수호가</th>\n",
       "      <th>매도호가</th>\n",
       "      <th>거래량</th>\n",
       "      <th>거래대금</th>\n",
       "      <th>전일거래량</th>\n",
       "      <th>조회일자</th>\n",
       "      <th>...</th>\n",
       "      <th>현재-최고가</th>\n",
       "      <th>현재/최고가비율</th>\n",
       "      <th>투자의견</th>\n",
       "      <th>목표주가</th>\n",
       "      <th>매수매도</th>\n",
       "      <th>PER(배)_y</th>\n",
       "      <th>EPS(원)_y</th>\n",
       "      <th>PBR(배)</th>\n",
       "      <th>BPS(원)</th>\n",
       "      <th>배당수익률%</th>\n",
       "    </tr>\n",
       "  </thead>\n",
       "  <tbody>\n",
       "    <tr>\n",
       "      <th>0</th>\n",
       "      <td>지놈앤컴퍼니 *</td>\n",
       "      <td>16140.0</td>\n",
       "      <td>2440.0</td>\n",
       "      <td>+17.81%</td>\n",
       "      <td>16440.0</td>\n",
       "      <td>16500.0</td>\n",
       "      <td>917537.0</td>\n",
       "      <td>14801.0</td>\n",
       "      <td>16343.0</td>\n",
       "      <td>23-08-21</td>\n",
       "      <td>...</td>\n",
       "      <td>-16360.0</td>\n",
       "      <td>0.496615</td>\n",
       "      <td>NaN</td>\n",
       "      <td>NaN</td>\n",
       "      <td>NaN</td>\n",
       "      <td>NaN</td>\n",
       "      <td>-3483</td>\n",
       "      <td>2.91</td>\n",
       "      <td>5584.0</td>\n",
       "      <td>NaN</td>\n",
       "    </tr>\n",
       "    <tr>\n",
       "      <th>1</th>\n",
       "      <td>이수앱지스 *</td>\n",
       "      <td>7560.0</td>\n",
       "      <td>750.0</td>\n",
       "      <td>+11.01%</td>\n",
       "      <td>7290.0</td>\n",
       "      <td>7300.0</td>\n",
       "      <td>679560.0</td>\n",
       "      <td>5004.0</td>\n",
       "      <td>272086.0</td>\n",
       "      <td>23-08-21</td>\n",
       "      <td>...</td>\n",
       "      <td>-660.0</td>\n",
       "      <td>0.919708</td>\n",
       "      <td>NaN</td>\n",
       "      <td>NaN</td>\n",
       "      <td>NaN</td>\n",
       "      <td>NaN</td>\n",
       "      <td>-198</td>\n",
       "      <td>4.16</td>\n",
       "      <td>1800.0</td>\n",
       "      <td>NaN</td>\n",
       "    </tr>\n",
       "    <tr>\n",
       "      <th>2</th>\n",
       "      <td>카이노스메드 *</td>\n",
       "      <td>4210.0</td>\n",
       "      <td>390.0</td>\n",
       "      <td>+10.21%</td>\n",
       "      <td>4235.0</td>\n",
       "      <td>4245.0</td>\n",
       "      <td>615228.0</td>\n",
       "      <td>2635.0</td>\n",
       "      <td>43792.0</td>\n",
       "      <td>23-08-21</td>\n",
       "      <td>...</td>\n",
       "      <td>-3290.0</td>\n",
       "      <td>0.561333</td>\n",
       "      <td>NaN</td>\n",
       "      <td>NaN</td>\n",
       "      <td>NaN</td>\n",
       "      <td>NaN</td>\n",
       "      <td>-592</td>\n",
       "      <td>5.06</td>\n",
       "      <td>829.0</td>\n",
       "      <td>NaN</td>\n",
       "    </tr>\n",
       "    <tr>\n",
       "      <th>3</th>\n",
       "      <td>대봉엘에스 *</td>\n",
       "      <td>11460.0</td>\n",
       "      <td>950.0</td>\n",
       "      <td>+9.04%</td>\n",
       "      <td>11540.0</td>\n",
       "      <td>11590.0</td>\n",
       "      <td>510039.0</td>\n",
       "      <td>5689.0</td>\n",
       "      <td>376893.0</td>\n",
       "      <td>23-08-21</td>\n",
       "      <td>...</td>\n",
       "      <td>-3490.0</td>\n",
       "      <td>0.766555</td>\n",
       "      <td>NaN</td>\n",
       "      <td>NaN</td>\n",
       "      <td>NaN</td>\n",
       "      <td>16.01</td>\n",
       "      <td>717</td>\n",
       "      <td>1.06</td>\n",
       "      <td>10797.0</td>\n",
       "      <td>0.44</td>\n",
       "    </tr>\n",
       "    <tr>\n",
       "      <th>4</th>\n",
       "      <td>샤페론 *</td>\n",
       "      <td>4520.0</td>\n",
       "      <td>355.0</td>\n",
       "      <td>+8.52%</td>\n",
       "      <td>4510.0</td>\n",
       "      <td>4520.0</td>\n",
       "      <td>848817.0</td>\n",
       "      <td>3778.0</td>\n",
       "      <td>416766.0</td>\n",
       "      <td>23-08-21</td>\n",
       "      <td>...</td>\n",
       "      <td>-7080.0</td>\n",
       "      <td>0.389655</td>\n",
       "      <td>NaN</td>\n",
       "      <td>NaN</td>\n",
       "      <td>NaN</td>\n",
       "      <td>NaN</td>\n",
       "      <td>-532</td>\n",
       "      <td>3.64</td>\n",
       "      <td>1239.0</td>\n",
       "      <td>NaN</td>\n",
       "    </tr>\n",
       "  </tbody>\n",
       "</table>\n",
       "<p>5 rows × 41 columns</p>\n",
       "</div>"
      ],
      "text/plain": [
       "        종목명      현재가     전일비      등락률     매수호가     매도호가       거래량     거래대금  \\\n",
       "0  지놈앤컴퍼니 *  16140.0  2440.0  +17.81%  16440.0  16500.0  917537.0  14801.0   \n",
       "1   이수앱지스 *   7560.0   750.0  +11.01%   7290.0   7300.0  679560.0   5004.0   \n",
       "2  카이노스메드 *   4210.0   390.0  +10.21%   4235.0   4245.0  615228.0   2635.0   \n",
       "3   대봉엘에스 *  11460.0   950.0   +9.04%  11540.0  11590.0  510039.0   5689.0   \n",
       "4     샤페론 *   4520.0   355.0   +8.52%   4510.0   4520.0  848817.0   3778.0   \n",
       "\n",
       "      전일거래량      조회일자  ...   현재-최고가  현재/최고가비율 투자의견  목표주가  매수매도  PER(배)_y  \\\n",
       "0   16343.0  23-08-21  ... -16360.0  0.496615  NaN   NaN   NaN       NaN   \n",
       "1  272086.0  23-08-21  ...   -660.0  0.919708  NaN   NaN   NaN       NaN   \n",
       "2   43792.0  23-08-21  ...  -3290.0  0.561333  NaN   NaN   NaN       NaN   \n",
       "3  376893.0  23-08-21  ...  -3490.0  0.766555  NaN   NaN   NaN     16.01   \n",
       "4  416766.0  23-08-21  ...  -7080.0  0.389655  NaN   NaN   NaN       NaN   \n",
       "\n",
       "   EPS(원)_y  PBR(배)   BPS(원)  배당수익률%  \n",
       "0     -3483    2.91   5584.0     NaN  \n",
       "1      -198    4.16   1800.0     NaN  \n",
       "2      -592    5.06    829.0     NaN  \n",
       "3       717    1.06  10797.0    0.44  \n",
       "4      -532    3.64   1239.0     NaN  \n",
       "\n",
       "[5 rows x 41 columns]"
      ]
     },
     "execution_count": 25,
     "metadata": {},
     "output_type": "execute_result"
    }
   ],
   "source": [
    "df.head()"
   ]
  },
  {
   "cell_type": "code",
   "execution_count": 26,
   "metadata": {},
   "outputs": [
    {
     "data": {
      "text/html": [
       "<div>\n",
       "<style scoped>\n",
       "    .dataframe tbody tr th:only-of-type {\n",
       "        vertical-align: middle;\n",
       "    }\n",
       "\n",
       "    .dataframe tbody tr th {\n",
       "        vertical-align: top;\n",
       "    }\n",
       "\n",
       "    .dataframe thead th {\n",
       "        text-align: right;\n",
       "    }\n",
       "</style>\n",
       "<table border=\"1\" class=\"dataframe\">\n",
       "  <thead>\n",
       "    <tr style=\"text-align: right;\">\n",
       "      <th></th>\n",
       "      <th>종목명</th>\n",
       "      <th>현재가</th>\n",
       "      <th>전일비</th>\n",
       "      <th>등락률</th>\n",
       "      <th>매수호가</th>\n",
       "      <th>매도호가</th>\n",
       "      <th>거래량</th>\n",
       "      <th>거래대금</th>\n",
       "      <th>전일거래량</th>\n",
       "      <th>조회일자</th>\n",
       "      <th>...</th>\n",
       "      <th>현재-최고가</th>\n",
       "      <th>현재/최고가비율</th>\n",
       "      <th>투자의견</th>\n",
       "      <th>목표주가</th>\n",
       "      <th>매수매도</th>\n",
       "      <th>PER(배)_y</th>\n",
       "      <th>EPS(원)_y</th>\n",
       "      <th>PBR(배)</th>\n",
       "      <th>BPS(원)</th>\n",
       "      <th>배당수익률%</th>\n",
       "    </tr>\n",
       "  </thead>\n",
       "  <tbody>\n",
       "    <tr>\n",
       "      <th>157</th>\n",
       "      <td>코스맥스비티아이</td>\n",
       "      <td>10010.0</td>\n",
       "      <td>170.0</td>\n",
       "      <td>-1.67%</td>\n",
       "      <td>9930.0</td>\n",
       "      <td>9940.0</td>\n",
       "      <td>11492.0</td>\n",
       "      <td>114.0</td>\n",
       "      <td>17359.0</td>\n",
       "      <td>23-08-21</td>\n",
       "      <td>...</td>\n",
       "      <td>-186498.0</td>\n",
       "      <td>0.050939</td>\n",
       "      <td>4.0</td>\n",
       "      <td>211250.0</td>\n",
       "      <td>매수</td>\n",
       "      <td>38.72</td>\n",
       "      <td>3750</td>\n",
       "      <td>4.85</td>\n",
       "      <td>29918.0</td>\n",
       "      <td>0.25</td>\n",
       "    </tr>\n",
       "    <tr>\n",
       "      <th>158</th>\n",
       "      <td>종근당바이오</td>\n",
       "      <td>22550.0</td>\n",
       "      <td>400.0</td>\n",
       "      <td>-1.74%</td>\n",
       "      <td>22650.0</td>\n",
       "      <td>22700.0</td>\n",
       "      <td>3368.0</td>\n",
       "      <td>76.0</td>\n",
       "      <td>6088.0</td>\n",
       "      <td>23-08-21</td>\n",
       "      <td>...</td>\n",
       "      <td>7580.0</td>\n",
       "      <td>1.506346</td>\n",
       "      <td>NaN</td>\n",
       "      <td>NaN</td>\n",
       "      <td>NaN</td>\n",
       "      <td>NaN</td>\n",
       "      <td>-591</td>\n",
       "      <td>3.95</td>\n",
       "      <td>3135.0</td>\n",
       "      <td>NaN</td>\n",
       "    </tr>\n",
       "    <tr>\n",
       "      <th>159</th>\n",
       "      <td>환인제약</td>\n",
       "      <td>14710.0</td>\n",
       "      <td>270.0</td>\n",
       "      <td>-1.80%</td>\n",
       "      <td>14690.0</td>\n",
       "      <td>14700.0</td>\n",
       "      <td>355234.0</td>\n",
       "      <td>5454.0</td>\n",
       "      <td>66708.0</td>\n",
       "      <td>23-08-21</td>\n",
       "      <td>...</td>\n",
       "      <td>12215.0</td>\n",
       "      <td>5.895792</td>\n",
       "      <td>NaN</td>\n",
       "      <td>NaN</td>\n",
       "      <td>NaN</td>\n",
       "      <td>5.58</td>\n",
       "      <td>327</td>\n",
       "      <td>0.30</td>\n",
       "      <td>6064.0</td>\n",
       "      <td>NaN</td>\n",
       "    </tr>\n",
       "    <tr>\n",
       "      <th>160</th>\n",
       "      <td>에이프릴바이오 *</td>\n",
       "      <td>22350.0</td>\n",
       "      <td>450.0</td>\n",
       "      <td>-1.97%</td>\n",
       "      <td>21950.0</td>\n",
       "      <td>22050.0</td>\n",
       "      <td>214491.0</td>\n",
       "      <td>4817.0</td>\n",
       "      <td>330266.0</td>\n",
       "      <td>23-08-21</td>\n",
       "      <td>...</td>\n",
       "      <td>-67650.0</td>\n",
       "      <td>0.248333</td>\n",
       "      <td>4.0</td>\n",
       "      <td>97715.0</td>\n",
       "      <td>매수</td>\n",
       "      <td>NaN</td>\n",
       "      <td>-1746</td>\n",
       "      <td>33.71</td>\n",
       "      <td>2109.0</td>\n",
       "      <td>NaN</td>\n",
       "    </tr>\n",
       "    <tr>\n",
       "      <th>161</th>\n",
       "      <td>셀트리온제약 *</td>\n",
       "      <td>71800.0</td>\n",
       "      <td>1500.0</td>\n",
       "      <td>-2.05%</td>\n",
       "      <td>71500.0</td>\n",
       "      <td>71600.0</td>\n",
       "      <td>336977.0</td>\n",
       "      <td>24397.0</td>\n",
       "      <td>1233417.0</td>\n",
       "      <td>23-08-21</td>\n",
       "      <td>...</td>\n",
       "      <td>58800.0</td>\n",
       "      <td>5.523077</td>\n",
       "      <td>NaN</td>\n",
       "      <td>NaN</td>\n",
       "      <td>NaN</td>\n",
       "      <td>NaN</td>\n",
       "      <td>-1742</td>\n",
       "      <td>2.93</td>\n",
       "      <td>1728.0</td>\n",
       "      <td>NaN</td>\n",
       "    </tr>\n",
       "  </tbody>\n",
       "</table>\n",
       "<p>5 rows × 41 columns</p>\n",
       "</div>"
      ],
      "text/plain": [
       "           종목명      현재가     전일비     등락률     매수호가     매도호가       거래량     거래대금  \\\n",
       "157   코스맥스비티아이  10010.0   170.0  -1.67%   9930.0   9940.0   11492.0    114.0   \n",
       "158     종근당바이오  22550.0   400.0  -1.74%  22650.0  22700.0    3368.0     76.0   \n",
       "159       환인제약  14710.0   270.0  -1.80%  14690.0  14700.0  355234.0   5454.0   \n",
       "160  에이프릴바이오 *  22350.0   450.0  -1.97%  21950.0  22050.0  214491.0   4817.0   \n",
       "161   셀트리온제약 *  71800.0  1500.0  -2.05%  71500.0  71600.0  336977.0  24397.0   \n",
       "\n",
       "         전일거래량      조회일자  ...    현재-최고가  현재/최고가비율 투자의견      목표주가  매수매도  \\\n",
       "157    17359.0  23-08-21  ... -186498.0  0.050939  4.0  211250.0    매수   \n",
       "158     6088.0  23-08-21  ...    7580.0  1.506346  NaN       NaN   NaN   \n",
       "159    66708.0  23-08-21  ...   12215.0  5.895792  NaN       NaN   NaN   \n",
       "160   330266.0  23-08-21  ...  -67650.0  0.248333  4.0   97715.0    매수   \n",
       "161  1233417.0  23-08-21  ...   58800.0  5.523077  NaN       NaN   NaN   \n",
       "\n",
       "     PER(배)_y  EPS(원)_y  PBR(배)   BPS(원)  배당수익률%  \n",
       "157     38.72      3750    4.85  29918.0    0.25  \n",
       "158       NaN      -591    3.95   3135.0     NaN  \n",
       "159      5.58       327    0.30   6064.0     NaN  \n",
       "160       NaN     -1746   33.71   2109.0     NaN  \n",
       "161       NaN     -1742    2.93   1728.0     NaN  \n",
       "\n",
       "[5 rows x 41 columns]"
      ]
     },
     "execution_count": 26,
     "metadata": {},
     "output_type": "execute_result"
    }
   ],
   "source": [
    "df.tail()"
   ]
  },
  {
   "cell_type": "code",
   "execution_count": 27,
   "metadata": {},
   "outputs": [
    {
     "name": "stdout",
     "output_type": "stream",
     "text": [
      "<class 'pandas.core.frame.DataFrame'>\n",
      "RangeIndex: 162 entries, 0 to 161\n",
      "Data columns (total 41 columns):\n",
      " #   Column       Non-Null Count  Dtype  \n",
      "---  ------       --------------  -----  \n",
      " 0   종목명          162 non-null    object \n",
      " 1   현재가          162 non-null    float64\n",
      " 2   전일비          162 non-null    float64\n",
      " 3   등락률          162 non-null    object \n",
      " 4   매수호가         162 non-null    float64\n",
      " 5   매도호가         162 non-null    float64\n",
      " 6   거래량          162 non-null    float64\n",
      " 7   거래대금         162 non-null    float64\n",
      " 8   전일거래량        162 non-null    float64\n",
      " 9   조회일자         162 non-null    object \n",
      " 10  매출액          34 non-null     float64\n",
      " 11  영업이익         33 non-null     float64\n",
      " 12  당기순이익        27 non-null     object \n",
      " 13  영업이익률        33 non-null     float64\n",
      " 14  순이익률         26 non-null     float64\n",
      " 15  EPS(원)_x     18 non-null     float64\n",
      " 16  PER(배)_x     18 non-null     float64\n",
      " 17  상장주식수        162 non-null    int64  \n",
      " 18  외국인한도주식수(A)  162 non-null    int64  \n",
      " 19  외국인보유주식수(B)  162 non-null    int64  \n",
      " 20  외국인소진율(B/A)  162 non-null    object \n",
      " 21  동일업종 PER     162 non-null    float64\n",
      " 22  동일업종 등락률     162 non-null    object \n",
      " 23  종목코드         162 non-null    object \n",
      " 24  코스피/코스닥      162 non-null    object \n",
      " 25  시가총액(억원)     162 non-null    int64  \n",
      " 26  시가총액순위(전처리)  162 non-null    int64  \n",
      " 27  52주최고        162 non-null    int64  \n",
      " 28  52주최저        162 non-null    int64  \n",
      " 29  52주차액        162 non-null    int64  \n",
      " 30  52주차액비율      162 non-null    float64\n",
      " 31  현재-최고가       162 non-null    float64\n",
      " 32  현재/최고가비율     162 non-null    float64\n",
      " 33  투자의견         37 non-null     float64\n",
      " 34  목표주가         37 non-null     float64\n",
      " 35  매수매도         37 non-null     object \n",
      " 36  PER(배)_y     96 non-null     float64\n",
      " 37  EPS(원)_y     162 non-null    int64  \n",
      " 38  PBR(배)       162 non-null    float64\n",
      " 39  BPS(원)       162 non-null    float64\n",
      " 40  배당수익률%       75 non-null     float64\n",
      "dtypes: float64(23), int64(9), object(9)\n",
      "memory usage: 52.0+ KB\n"
     ]
    }
   ],
   "source": [
    "# info 보기\n",
    "df.info()"
   ]
  },
  {
   "cell_type": "markdown",
   "metadata": {
    "id": "nj3Jra_t3W3i"
   },
   "source": [
    "## 천단위 숫자 구분 함수 만들기"
   ]
  },
  {
   "cell_type": "code",
   "execution_count": 35,
   "metadata": {},
   "outputs": [],
   "source": [
    "def format_number(num):\n",
    "    \"\"\"\n",
    "    천단위 숫자를 구분해 주는 문자를 넣어주는 함수\n",
    "    float 타입은 소숫점 2자리까지만 반환\n",
    "    \"\"\"\n",
    "    if type(num) != str:\n",
    "        return format(num, \",\")\n",
    "    else:\n",
    "        return num"
   ]
  },
  {
   "cell_type": "code",
   "execution_count": 36,
   "metadata": {},
   "outputs": [
    {
     "data": {
      "text/plain": [
       "'1,234,567,890'"
      ]
     },
     "execution_count": 36,
     "metadata": {},
     "output_type": "execute_result"
    }
   ],
   "source": [
    "# format 을 통해 천단위 쉼표 만들기\n",
    "format(1234567890, \",\")"
   ]
  },
  {
   "cell_type": "code",
   "execution_count": 37,
   "metadata": {},
   "outputs": [
    {
     "data": {
      "text/plain": [
       "'123,456.789'"
      ]
     },
     "execution_count": 37,
     "metadata": {},
     "output_type": "execute_result"
    }
   ],
   "source": [
    "# format_number 함수가 잘 동작하는지 확인하기\n",
    "format_number(123456.789)"
   ]
  },
  {
   "cell_type": "code",
   "execution_count": 38,
   "metadata": {},
   "outputs": [
    {
     "data": {
      "text/plain": [
       "'123456'"
      ]
     },
     "execution_count": 38,
     "metadata": {},
     "output_type": "execute_result"
    }
   ],
   "source": [
    "# format_number 함수가 잘 동작하는지 확인하기\n",
    "format_number(\"123456\")"
   ]
  },
  {
   "cell_type": "code",
   "execution_count": 39,
   "metadata": {},
   "outputs": [
    {
     "data": {
      "text/plain": [
       "'abcde'"
      ]
     },
     "execution_count": 39,
     "metadata": {},
     "output_type": "execute_result"
    }
   ],
   "source": [
    "format_number(\"abcde\")"
   ]
  },
  {
   "cell_type": "code",
   "execution_count": 44,
   "metadata": {
    "scrolled": false
   },
   "outputs": [
    {
     "data": {
      "text/plain": [
       "상장주식수      int64\n",
       "거래량      float64\n",
       "dtype: object"
      ]
     },
     "execution_count": 44,
     "metadata": {},
     "output_type": "execute_result"
    }
   ],
   "source": [
    "# \"상장주식수\", \"거래량\" 의 타입 보기\n",
    "df[[\"상장주식수\", \"거래량\"]].dtypes"
   ]
  },
  {
   "cell_type": "code",
   "execution_count": 45,
   "metadata": {
    "scrolled": false
   },
   "outputs": [
    {
     "data": {
      "text/html": [
       "<style type=\"text/css\">\n",
       "</style>\n",
       "<table id=\"T_5d68b\">\n",
       "  <thead>\n",
       "    <tr>\n",
       "      <th class=\"blank level0\" >&nbsp;</th>\n",
       "      <th id=\"T_5d68b_level0_col0\" class=\"col_heading level0 col0\" >종목코드</th>\n",
       "      <th id=\"T_5d68b_level0_col1\" class=\"col_heading level0 col1\" >상장주식수</th>\n",
       "      <th id=\"T_5d68b_level0_col2\" class=\"col_heading level0 col2\" >거래량</th>\n",
       "    </tr>\n",
       "  </thead>\n",
       "  <tbody>\n",
       "    <tr>\n",
       "      <th id=\"T_5d68b_level0_row0\" class=\"row_heading level0 row0\" >0</th>\n",
       "      <td id=\"T_5d68b_row0_col0\" class=\"data row0 col0\" >314130</td>\n",
       "      <td id=\"T_5d68b_row0_col1\" class=\"data row0 col1\" >14,102,521</td>\n",
       "      <td id=\"T_5d68b_row0_col2\" class=\"data row0 col2\" >917,537.0</td>\n",
       "    </tr>\n",
       "    <tr>\n",
       "      <th id=\"T_5d68b_level0_row1\" class=\"row_heading level0 row1\" >1</th>\n",
       "      <td id=\"T_5d68b_row1_col0\" class=\"data row1 col0\" >086890</td>\n",
       "      <td id=\"T_5d68b_row1_col1\" class=\"data row1 col1\" >33,182,668</td>\n",
       "      <td id=\"T_5d68b_row1_col2\" class=\"data row1 col2\" >679,560.0</td>\n",
       "    </tr>\n",
       "    <tr>\n",
       "      <th id=\"T_5d68b_level0_row2\" class=\"row_heading level0 row2\" >2</th>\n",
       "      <td id=\"T_5d68b_row2_col0\" class=\"data row2 col0\" >284620</td>\n",
       "      <td id=\"T_5d68b_row2_col1\" class=\"data row2 col1\" >27,922,396</td>\n",
       "      <td id=\"T_5d68b_row2_col2\" class=\"data row2 col2\" >615,228.0</td>\n",
       "    </tr>\n",
       "    <tr>\n",
       "      <th id=\"T_5d68b_level0_row3\" class=\"row_heading level0 row3\" >3</th>\n",
       "      <td id=\"T_5d68b_row3_col0\" class=\"data row3 col0\" >078140</td>\n",
       "      <td id=\"T_5d68b_row3_col1\" class=\"data row3 col1\" >11,086,579</td>\n",
       "      <td id=\"T_5d68b_row3_col2\" class=\"data row3 col2\" >510,039.0</td>\n",
       "    </tr>\n",
       "    <tr>\n",
       "      <th id=\"T_5d68b_level0_row4\" class=\"row_heading level0 row4\" >4</th>\n",
       "      <td id=\"T_5d68b_row4_col0\" class=\"data row4 col0\" >378800</td>\n",
       "      <td id=\"T_5d68b_row4_col1\" class=\"data row4 col1\" >23,071,031</td>\n",
       "      <td id=\"T_5d68b_row4_col2\" class=\"data row4 col2\" >848,817.0</td>\n",
       "    </tr>\n",
       "  </tbody>\n",
       "</table>\n"
      ],
      "text/plain": [
       "<pandas.io.formats.style.Styler at 0x285f288f3d0>"
      ]
     },
     "execution_count": 45,
     "metadata": {},
     "output_type": "execute_result"
    }
   ],
   "source": [
    "# \"상장주식수\", \"거래량\" 데이터에 format_number 를 적용해 봅니다.\n",
    "df[[\"종목코드\", \"상장주식수\", \"거래량\"]].head().style.format(format_number)"
   ]
  },
  {
   "cell_type": "markdown",
   "metadata": {},
   "source": [
    "## EPS(원)\n",
    "\n",
    "* _x 와 _y로 변수명이 생성된 이유는 기업실적 분석에 있는 EPS(원)과 투자정보에 있는 EPS(원)이 합쳐졌기 때문입니다.\n",
    "* _x : 기업실적 분석의 최근분기실적에서 가져온 데이터\n",
    "* _y : 투자정보에서 가져온 데이터\n",
    "\n",
    "\n",
    "* `EPS(Earning Per Share) = 순이익(당기순이익) / 그 기업이 발행한 총 주식수`\n",
    "* 주당순이익(EPS)는 기업이 1주당 얼마의 순이익을 냈는가를 나타내는 지표이다. 예를 들어 발행주식이 10,000개인 기업이 순이익 1,000원을 냈다면 주당순이익은 0.1이 된다. EPS는 주로 PER을 계산하기 위한 값으로 이용되며 단독으로는 별로 사용되지 않는다.\n",
    "* 주가 10,000원짜리 기업이 순이익 1,000원을 냈다고 해도, 발행한 주식의 수를 알 수 없으므로 주당 순이익이 0.1이라고 단정지어서는 안된다. 또한 발행한 주식의 수가 달라질 수도 있으므로, 얼마든지 0.1이라는 수치는 변할 수 있다는 점도 간과해서는 아니된다.\n",
    "* 출처 : https://ko.wikipedia.org/wiki/%EC%A3%BC%EB%8B%B9%EC%88%9C%EC%9D%B4%EC%9D%B5"
   ]
  },
  {
   "cell_type": "code",
   "execution_count": 55,
   "metadata": {},
   "outputs": [
    {
     "data": {
      "text/html": [
       "<div>\n",
       "<style scoped>\n",
       "    .dataframe tbody tr th:only-of-type {\n",
       "        vertical-align: middle;\n",
       "    }\n",
       "\n",
       "    .dataframe tbody tr th {\n",
       "        vertical-align: top;\n",
       "    }\n",
       "\n",
       "    .dataframe thead th {\n",
       "        text-align: right;\n",
       "    }\n",
       "</style>\n",
       "<table border=\"1\" class=\"dataframe\">\n",
       "  <thead>\n",
       "    <tr style=\"text-align: right;\">\n",
       "      <th></th>\n",
       "      <th>EPS(원)_x</th>\n",
       "      <th>EPS(원)_y</th>\n",
       "      <th>EPS(원)</th>\n",
       "    </tr>\n",
       "  </thead>\n",
       "  <tbody>\n",
       "    <tr>\n",
       "      <th>0</th>\n",
       "      <td>NaN</td>\n",
       "      <td>-3483</td>\n",
       "      <td>-3483</td>\n",
       "    </tr>\n",
       "    <tr>\n",
       "      <th>1</th>\n",
       "      <td>-15.0</td>\n",
       "      <td>-198</td>\n",
       "      <td>-198</td>\n",
       "    </tr>\n",
       "    <tr>\n",
       "      <th>2</th>\n",
       "      <td>NaN</td>\n",
       "      <td>-592</td>\n",
       "      <td>-592</td>\n",
       "    </tr>\n",
       "    <tr>\n",
       "      <th>3</th>\n",
       "      <td>NaN</td>\n",
       "      <td>717</td>\n",
       "      <td>717</td>\n",
       "    </tr>\n",
       "    <tr>\n",
       "      <th>4</th>\n",
       "      <td>NaN</td>\n",
       "      <td>-532</td>\n",
       "      <td>-532</td>\n",
       "    </tr>\n",
       "    <tr>\n",
       "      <th>...</th>\n",
       "      <td>...</td>\n",
       "      <td>...</td>\n",
       "      <td>...</td>\n",
       "    </tr>\n",
       "    <tr>\n",
       "      <th>157</th>\n",
       "      <td>1153.0</td>\n",
       "      <td>3750</td>\n",
       "      <td>3750</td>\n",
       "    </tr>\n",
       "    <tr>\n",
       "      <th>158</th>\n",
       "      <td>NaN</td>\n",
       "      <td>-591</td>\n",
       "      <td>-591</td>\n",
       "    </tr>\n",
       "    <tr>\n",
       "      <th>159</th>\n",
       "      <td>NaN</td>\n",
       "      <td>327</td>\n",
       "      <td>327</td>\n",
       "    </tr>\n",
       "    <tr>\n",
       "      <th>160</th>\n",
       "      <td>NaN</td>\n",
       "      <td>-1746</td>\n",
       "      <td>-1746</td>\n",
       "    </tr>\n",
       "    <tr>\n",
       "      <th>161</th>\n",
       "      <td>NaN</td>\n",
       "      <td>-1742</td>\n",
       "      <td>-1742</td>\n",
       "    </tr>\n",
       "  </tbody>\n",
       "</table>\n",
       "<p>162 rows × 3 columns</p>\n",
       "</div>"
      ],
      "text/plain": [
       "     EPS(원)_x  EPS(원)_y  EPS(원)\n",
       "0         NaN     -3483   -3483\n",
       "1       -15.0      -198    -198\n",
       "2         NaN      -592    -592\n",
       "3         NaN       717     717\n",
       "4         NaN      -532    -532\n",
       "..        ...       ...     ...\n",
       "157    1153.0      3750    3750\n",
       "158       NaN      -591    -591\n",
       "159       NaN       327     327\n",
       "160       NaN     -1746   -1746\n",
       "161       NaN     -1742   -1742\n",
       "\n",
       "[162 rows x 3 columns]"
      ]
     },
     "execution_count": 55,
     "metadata": {},
     "output_type": "execute_result"
    }
   ],
   "source": [
    "# \"EPS(원)_x\"가 결측치가 아니고 \"EPS(원)_y\" 가 결측치라면 \"EPS(원)_x\" 로 _y의 결측치를 채우도록 합니다.\n",
    "df[\"EPS(원)\"] = df[\"EPS(원)_y\"].fillna(df[\"EPS(원)_x\"])\n",
    "df.filter(regex = \"EPS\", axis=1)"
   ]
  },
  {
   "cell_type": "code",
   "execution_count": 56,
   "metadata": {},
   "outputs": [],
   "source": [
    "# 사용하지 않는 컬럼은 삭제합니다.\n",
    "del df[\"EPS(원)_x\"]\n",
    "del df[\"EPS(원)_y\"]"
   ]
  },
  {
   "cell_type": "code",
   "execution_count": 57,
   "metadata": {},
   "outputs": [
    {
     "data": {
      "text/html": [
       "<div>\n",
       "<style scoped>\n",
       "    .dataframe tbody tr th:only-of-type {\n",
       "        vertical-align: middle;\n",
       "    }\n",
       "\n",
       "    .dataframe tbody tr th {\n",
       "        vertical-align: top;\n",
       "    }\n",
       "\n",
       "    .dataframe thead th {\n",
       "        text-align: right;\n",
       "    }\n",
       "</style>\n",
       "<table border=\"1\" class=\"dataframe\">\n",
       "  <thead>\n",
       "    <tr style=\"text-align: right;\">\n",
       "      <th></th>\n",
       "      <th>EPS(원)</th>\n",
       "    </tr>\n",
       "  </thead>\n",
       "  <tbody>\n",
       "    <tr>\n",
       "      <th>0</th>\n",
       "      <td>-3483</td>\n",
       "    </tr>\n",
       "    <tr>\n",
       "      <th>1</th>\n",
       "      <td>-198</td>\n",
       "    </tr>\n",
       "    <tr>\n",
       "      <th>2</th>\n",
       "      <td>-592</td>\n",
       "    </tr>\n",
       "    <tr>\n",
       "      <th>3</th>\n",
       "      <td>717</td>\n",
       "    </tr>\n",
       "    <tr>\n",
       "      <th>4</th>\n",
       "      <td>-532</td>\n",
       "    </tr>\n",
       "    <tr>\n",
       "      <th>...</th>\n",
       "      <td>...</td>\n",
       "    </tr>\n",
       "    <tr>\n",
       "      <th>157</th>\n",
       "      <td>3750</td>\n",
       "    </tr>\n",
       "    <tr>\n",
       "      <th>158</th>\n",
       "      <td>-591</td>\n",
       "    </tr>\n",
       "    <tr>\n",
       "      <th>159</th>\n",
       "      <td>327</td>\n",
       "    </tr>\n",
       "    <tr>\n",
       "      <th>160</th>\n",
       "      <td>-1746</td>\n",
       "    </tr>\n",
       "    <tr>\n",
       "      <th>161</th>\n",
       "      <td>-1742</td>\n",
       "    </tr>\n",
       "  </tbody>\n",
       "</table>\n",
       "<p>162 rows × 1 columns</p>\n",
       "</div>"
      ],
      "text/plain": [
       "     EPS(원)\n",
       "0     -3483\n",
       "1      -198\n",
       "2      -592\n",
       "3       717\n",
       "4      -532\n",
       "..      ...\n",
       "157    3750\n",
       "158    -591\n",
       "159     327\n",
       "160   -1746\n",
       "161   -1742\n",
       "\n",
       "[162 rows x 1 columns]"
      ]
     },
     "execution_count": 57,
     "metadata": {},
     "output_type": "execute_result"
    }
   ],
   "source": [
    "df.filter(regex = \"EPS\", axis=1)"
   ]
  },
  {
   "cell_type": "markdown",
   "metadata": {},
   "source": [
    "## PER(배) \n",
    "* _x 와 _y로 변수명이 생성된 이유는 기업실적 분석에 있는 PER(배) 와 투자정보에 있는 PER(배)가 합쳐졌기 때문입니다.\n",
    "* _x : 기업실적 분석의 최근분기실적에서 가져온 데이터\n",
    "* _y : 투자정보에서 가져온 데이터\n",
    "\n",
    "\n",
    "* `PER(Price Earnings Ratio)`\n",
    "* 주가수익률은 주가를 1주당 순이익 (EPS)으로 나눈 값이다. 예를 들어 주가 10,000 원짜리 기업이 주당 1,000 원의 순익을 거뒀다면 PER은 10배가 된다. 주가 5,000 원짜리 기업이 주당 1,000 원의 순익을 거뒀다면 PER은 5배가 된다. 즉 두 기업은 이익은 같은데도 전자의 기업은 주가가 두배로 평가되어 있는 셈이다.\n",
    "\n",
    "* PER는 당기순이익 크기에 관계없이 주식가치의 기업간, 기간간 비교를 가능하게 한다. **일반적으로 PER가 낮으면 이익에 비해 주가가 저평가된 종목으로, 높으면 고평가된 종목으로 간주된다. 따라서 가치투자에서는 PER가 낮은 종목을 매수하여 보유하는 방법이 자주 언급된다.**\n",
    "\n",
    "* 급격한 성장이 예상되는 혁신기업의 주식가치 판단에도 PER가 정확한 기준인가는 부정적인 의견이 많다. PER는 현재의 회계적 이익만을 기준으로 미래가치가 반영된 주식가치를 평가하기 때문이다. `성장이 안정기에 접어든 기업은 PER가 유용할 순 있어도, 급격한 성장이 예상되는 기업의 경우에는 PER가 미래 주식가치를 온전히 반영할 수가 없다.`\n",
    "\n",
    "* 특히, 성장이 빠른 업종에서 수익성보다 매출 성장이 중시되는 상황에서는 이익보다 매출이 더 중요한 기준이 되므로 PER은 유용하지 못한 지표가 된다. 예를 들어 앞의 예에서 PER 10배인 기업은 PER 5배인 기업과 순이익은 같지만 매출이 훨씬 크거나 시장점유율이 빨리 성장하기 때문에 주가가 더 고평가되어 있는 것일 수도 있다. 즉 미래의 가치는 주가에 선반영되어 있기 때문에, PER만을 투자에 활용하는 것은 좋지 못하다.\n",
    "\n",
    "* 출처 https://ko.wikipedia.org/wiki/%EC%A3%BC%EA%B0%80%EC%88%98%EC%9D%B5%EB%A5%A0"
   ]
  },
  {
   "cell_type": "code",
   "execution_count": 61,
   "metadata": {},
   "outputs": [
    {
     "data": {
      "text/html": [
       "<div>\n",
       "<style scoped>\n",
       "    .dataframe tbody tr th:only-of-type {\n",
       "        vertical-align: middle;\n",
       "    }\n",
       "\n",
       "    .dataframe tbody tr th {\n",
       "        vertical-align: top;\n",
       "    }\n",
       "\n",
       "    .dataframe thead th {\n",
       "        text-align: right;\n",
       "    }\n",
       "</style>\n",
       "<table border=\"1\" class=\"dataframe\">\n",
       "  <thead>\n",
       "    <tr style=\"text-align: right;\">\n",
       "      <th></th>\n",
       "      <th>PER(배)_x</th>\n",
       "      <th>PER(배)_y</th>\n",
       "      <th>PER(배)</th>\n",
       "    </tr>\n",
       "  </thead>\n",
       "  <tbody>\n",
       "    <tr>\n",
       "      <th>0</th>\n",
       "      <td>NaN</td>\n",
       "      <td>NaN</td>\n",
       "      <td>NaN</td>\n",
       "    </tr>\n",
       "    <tr>\n",
       "      <th>1</th>\n",
       "      <td>-433.37</td>\n",
       "      <td>NaN</td>\n",
       "      <td>-433.37</td>\n",
       "    </tr>\n",
       "    <tr>\n",
       "      <th>2</th>\n",
       "      <td>NaN</td>\n",
       "      <td>NaN</td>\n",
       "      <td>NaN</td>\n",
       "    </tr>\n",
       "    <tr>\n",
       "      <th>3</th>\n",
       "      <td>NaN</td>\n",
       "      <td>16.01</td>\n",
       "      <td>16.01</td>\n",
       "    </tr>\n",
       "    <tr>\n",
       "      <th>4</th>\n",
       "      <td>NaN</td>\n",
       "      <td>NaN</td>\n",
       "      <td>NaN</td>\n",
       "    </tr>\n",
       "    <tr>\n",
       "      <th>...</th>\n",
       "      <td>...</td>\n",
       "      <td>...</td>\n",
       "      <td>...</td>\n",
       "    </tr>\n",
       "    <tr>\n",
       "      <th>157</th>\n",
       "      <td>130.49</td>\n",
       "      <td>38.72</td>\n",
       "      <td>38.72</td>\n",
       "    </tr>\n",
       "    <tr>\n",
       "      <th>158</th>\n",
       "      <td>NaN</td>\n",
       "      <td>NaN</td>\n",
       "      <td>NaN</td>\n",
       "    </tr>\n",
       "    <tr>\n",
       "      <th>159</th>\n",
       "      <td>NaN</td>\n",
       "      <td>5.58</td>\n",
       "      <td>5.58</td>\n",
       "    </tr>\n",
       "    <tr>\n",
       "      <th>160</th>\n",
       "      <td>NaN</td>\n",
       "      <td>NaN</td>\n",
       "      <td>NaN</td>\n",
       "    </tr>\n",
       "    <tr>\n",
       "      <th>161</th>\n",
       "      <td>NaN</td>\n",
       "      <td>NaN</td>\n",
       "      <td>NaN</td>\n",
       "    </tr>\n",
       "  </tbody>\n",
       "</table>\n",
       "<p>162 rows × 3 columns</p>\n",
       "</div>"
      ],
      "text/plain": [
       "     PER(배)_x  PER(배)_y  PER(배)\n",
       "0         NaN       NaN     NaN\n",
       "1     -433.37       NaN -433.37\n",
       "2         NaN       NaN     NaN\n",
       "3         NaN     16.01   16.01\n",
       "4         NaN       NaN     NaN\n",
       "..        ...       ...     ...\n",
       "157    130.49     38.72   38.72\n",
       "158       NaN       NaN     NaN\n",
       "159       NaN      5.58    5.58\n",
       "160       NaN       NaN     NaN\n",
       "161       NaN       NaN     NaN\n",
       "\n",
       "[162 rows x 3 columns]"
      ]
     },
     "execution_count": 61,
     "metadata": {},
     "output_type": "execute_result"
    }
   ],
   "source": [
    "# \"PER(배)_x\"가 결측치가 아니고 \"PER(배)_y\" 가 결측치라면 \"PER(배)_x\" 로 _y의 결측치를 채우도록 합니다.\n",
    "df[\"PER(배)\"] = df['PER(배)_y'].fillna(df['PER(배)_x'])\n",
    "df.filter(regex='PER\\(배\\)')"
   ]
  },
  {
   "cell_type": "code",
   "execution_count": 62,
   "metadata": {},
   "outputs": [],
   "source": [
    "# 사용하지 않는 컬럼은 삭제합니다.\n",
    "del df[\"PER(배)_x\"]\n",
    "del df[\"PER(배)_y\"]"
   ]
  },
  {
   "cell_type": "code",
   "execution_count": 63,
   "metadata": {},
   "outputs": [
    {
     "data": {
      "text/html": [
       "<div>\n",
       "<style scoped>\n",
       "    .dataframe tbody tr th:only-of-type {\n",
       "        vertical-align: middle;\n",
       "    }\n",
       "\n",
       "    .dataframe tbody tr th {\n",
       "        vertical-align: top;\n",
       "    }\n",
       "\n",
       "    .dataframe thead th {\n",
       "        text-align: right;\n",
       "    }\n",
       "</style>\n",
       "<table border=\"1\" class=\"dataframe\">\n",
       "  <thead>\n",
       "    <tr style=\"text-align: right;\">\n",
       "      <th></th>\n",
       "      <th>PER(배)</th>\n",
       "    </tr>\n",
       "  </thead>\n",
       "  <tbody>\n",
       "    <tr>\n",
       "      <th>0</th>\n",
       "      <td>NaN</td>\n",
       "    </tr>\n",
       "    <tr>\n",
       "      <th>1</th>\n",
       "      <td>-433.37</td>\n",
       "    </tr>\n",
       "    <tr>\n",
       "      <th>2</th>\n",
       "      <td>NaN</td>\n",
       "    </tr>\n",
       "    <tr>\n",
       "      <th>3</th>\n",
       "      <td>16.01</td>\n",
       "    </tr>\n",
       "    <tr>\n",
       "      <th>4</th>\n",
       "      <td>NaN</td>\n",
       "    </tr>\n",
       "    <tr>\n",
       "      <th>...</th>\n",
       "      <td>...</td>\n",
       "    </tr>\n",
       "    <tr>\n",
       "      <th>157</th>\n",
       "      <td>38.72</td>\n",
       "    </tr>\n",
       "    <tr>\n",
       "      <th>158</th>\n",
       "      <td>NaN</td>\n",
       "    </tr>\n",
       "    <tr>\n",
       "      <th>159</th>\n",
       "      <td>5.58</td>\n",
       "    </tr>\n",
       "    <tr>\n",
       "      <th>160</th>\n",
       "      <td>NaN</td>\n",
       "    </tr>\n",
       "    <tr>\n",
       "      <th>161</th>\n",
       "      <td>NaN</td>\n",
       "    </tr>\n",
       "  </tbody>\n",
       "</table>\n",
       "<p>162 rows × 1 columns</p>\n",
       "</div>"
      ],
      "text/plain": [
       "     PER(배)\n",
       "0       NaN\n",
       "1   -433.37\n",
       "2       NaN\n",
       "3     16.01\n",
       "4       NaN\n",
       "..      ...\n",
       "157   38.72\n",
       "158     NaN\n",
       "159    5.58\n",
       "160     NaN\n",
       "161     NaN\n",
       "\n",
       "[162 rows x 1 columns]"
      ]
     },
     "execution_count": 63,
     "metadata": {},
     "output_type": "execute_result"
    }
   ],
   "source": [
    "df.filter(regex='PER\\(배\\)')"
   ]
  },
  {
   "cell_type": "markdown",
   "metadata": {},
   "source": [
    "## BPS(원)\n",
    "\n",
    "* _x 와 _y로 변수명이 생성된 이유는 기업실적 분석에 있는 BPS(원)과 투자정보에 있는 BPS(원)이 합쳐졌기 때문입니다.\n",
    "* _x : 기업실적 분석의 최근분기실적에서 가져온 데이터\n",
    "* _y : 투자정보에서 가져온 데이터\n",
    "\n",
    "\n",
    "* `주당순자산가치(BPS, Book-value Per Share)는 기업의 순자산을 발행 주식수로 나눈 것`\n",
    "\n",
    "* 주당순자산가치는, '청산가치' 라고도 불린다. 그 이유는 현재 시점에서 기업의 활동을 중단시키고 그 부를 모든 주주들에게 나눠줄 경우 한주당 얼마씩이 돌아가는가를 나타내는 수치이기 때문이다. 보통 주당순자산가치라는 말은 잘 쓰지 않고 BPS라고 하므로 이하 BPS로 쓴다.\n",
    "* 기업의 총자산에서 부채를 빼면 자기자본이 나온다. 어림셈법으로, 이것을 순자산으로 보고 총 발행주식수로 나누어서 BPS를 산출하는 방법도 있다. 예를 들어 회사에 순자산이 1억이 있고, 총 발행된 주식이 1만장 있다면 주당순자산은 1만원이 된다.\n",
    "\n",
    "* 주당순자산을 좀더 보수적으로 계산하려면, 여기서 상표권, 영업권 등의 무형고정자산과 배당금, 임원상여금 등 사외유출분을 뺀 것을 순자산으로 본다. 이것을 총 발행주식수로 나누면 BPS가 나온다.\n",
    "\n",
    "* 예를 들어 회사에 전체 자산이 2억 2천만 원이 있고, 이중 부채가 1억, 무형고정자산과 배당금, 상여금 등으로 나가야 할 돈이 총 2천만 원이라면 순자산은 1억원이 된다. 여기에 총 발행 주식이 1만장이라면 BPS는 1만 원이 된다. 즉 이 회사를 지금 당장 폐업시키고 자산을 모두 처분하여 주주 배당금과 상여금 등으로 쓸 돈을 제외하고 나머지를 모두 주주들에게 돌려준다면, 주주들은 한주당 1만 원씩을 받게 된다.\n",
    "\n",
    "* BPS가 높다는 것은 자기자본의 비중이 크거나 회사 가치가 높다는 것을 나타낸다. BPS에는 주가 정보가 고려되어 있지 않으므로, 이 회사의 **주가가 자산 가치에 비해 얼마나 저평가 혹은 고평가되어 있는지 판단하기 위해 PBR이라는 값을 사용한다.**\n",
    "\n",
    "* PBR 값은 BPS 값으로 현재 주가를 나눈 것이다. BPS가 1만원인 위 사례에서 주가가 5,000원이라면 PBR은 0.5가 되고, 주가가 20,000원이라면 PBR은 2가 된다. 즉 전자의 경우 주가는 실제의 자산에 비해 저평가되어 되어 있는 것이고, 후자의 경우 주가는 실제 자산에 비해 고평가 되어 있는 것이다.\n",
    "\n",
    "* 이렇게 되는 이유는 **BPS가 단지 현재 자산의 청산가치일 뿐, 현재의 현금흐름이나 미래의 가치를 반영하고 있지는 않기 때문이다. 예를 들어 BPS가 높은 즉 많은 자산을 보유하고 있는 기업도 순이익이 적거나 마이너스라면 주가는 낮을 것이고, BPS가 낮은 즉 자산이 적은 기업도 순이익이 크다면 주가는 높게 책정될 것이다.**\n",
    "\n",
    "* 출처 : https://ko.wikipedia.org/wiki/%EC%A3%BC%EB%8B%B9%EC%88%9C%EC%9E%90%EC%82%B0%EA%B0%80%EC%B9%98"
   ]
  },
  {
   "cell_type": "code",
   "execution_count": 66,
   "metadata": {},
   "outputs": [
    {
     "data": {
      "text/plain": [
       "0"
      ]
     },
     "execution_count": 66,
     "metadata": {},
     "output_type": "execute_result"
    }
   ],
   "source": [
    "# \"BPS(원)_x\"가 결측치가 아니고 \"BPS(원)_y\" 가 결측치라면 \"BPS(원)_x\" 로 _y의 결측치를 채우도록 합니다.\n",
    "df['BPS(원)'].isnull().sum()"
   ]
  },
  {
   "cell_type": "code",
   "execution_count": null,
   "metadata": {},
   "outputs": [],
   "source": []
  },
  {
   "cell_type": "code",
   "execution_count": null,
   "metadata": {},
   "outputs": [],
   "source": []
  },
  {
   "cell_type": "markdown",
   "metadata": {},
   "source": [
    "## PBR(배) \n",
    "* _x 와 _y로 변수명이 생성된 이유는 기업실적 분석에 있는 PBR(배) 와 투자정보에 있는 PBR(배)가 합쳐졌기 때문입니다.\n",
    "* _x : 기업실적 분석의 최근분기실적에서 가져온 데이터\n",
    "* _y : 투자정보에서 가져온 데이터\n",
    "\n",
    "\n",
    "* `PBR = 주가/BPS(주당순자산가치)`\n",
    "\n",
    "* PBR(주가순자산비율, price-to-book ratio, P/B ratio)는 주가를 BPS(주당순자산가치)로 나눈 것이다. 주가가 1주당 순자산의 몇 배로 매매되고 있는가를 표시하며 PER과 같이 주가의 상대적 수준을 나타낸다.\n",
    "\n",
    "\n",
    "* 주가는 그 회사의 종합적인 평가이므로 주주 소유분을 초과한 부분은 모두 그 회사의 잠재적인 프리미엄이 되기 때문에 경영의 종합력이 뛰어나면 뛰어날수록 배율이 높아진다고 할 수 있다. 일반적으로 이 지표는 PER과 함께 사용되는데, 이는 주가순자산배율이 그 회사를 정적인 상태 즉 스토크(stock)면에서 보고 있는데 반하여 주가수익률은 동적인 상태 즉 플로(flow)면에서 보고 있으므로 두 가지 지표가 서로 보완관계에 있다.\n",
    "\n",
    "* 다만 이 주가 순자산배율에도 주주소유분이 장부가격에 의해 계산되고 있어 반드시 정확하다고 할 수 없고 또 그 계산기준이 전기의 결산기가 된다는 등의 난점이 있다.\n",
    "\n",
    "* 출처 : https://ko.wikipedia.org/wiki/%EC%A3%BC%EA%B0%80%EC%88%9C%EC%9E%90%EC%82%B0%EB%B9%84%EC%9C%A8"
   ]
  },
  {
   "cell_type": "code",
   "execution_count": 69,
   "metadata": {},
   "outputs": [
    {
     "data": {
      "text/plain": [
       "0"
      ]
     },
     "execution_count": 69,
     "metadata": {},
     "output_type": "execute_result"
    }
   ],
   "source": [
    "# \"PBR(배)_x\"가 결측치가 아니고 \"PBR(배)_y\" 가 결측치라면 \"PBR(배)_x\" 로 _y의 결측치를 채우도록 합니다.\n",
    "# df[\"PBR(배)\"]\n",
    "# df.filter(regex='PBR', axis=1)\n",
    "df['PBR(배)'].isnull().sum()"
   ]
  },
  {
   "cell_type": "code",
   "execution_count": null,
   "metadata": {},
   "outputs": [],
   "source": []
  },
  {
   "cell_type": "code",
   "execution_count": null,
   "metadata": {},
   "outputs": [],
   "source": []
  },
  {
   "cell_type": "markdown",
   "metadata": {},
   "source": [
    "## 일부 컬럼만 사용하기"
   ]
  },
  {
   "cell_type": "code",
   "execution_count": 71,
   "metadata": {
    "scrolled": true
   },
   "outputs": [
    {
     "data": {
      "text/plain": [
       "Index(['종목명', '현재가', '전일비', '등락률', '매수호가', '매도호가', '거래량', '거래대금', '전일거래량',\n",
       "       '조회일자', '매출액', '영업이익', '당기순이익', '영업이익률', '순이익률', '상장주식수', '외국인한도주식수(A)',\n",
       "       '외국인보유주식수(B)', '외국인소진율(B/A)', '동일업종 PER', '동일업종 등락률', '종목코드', '코스피/코스닥',\n",
       "       '시가총액(억원)', '시가총액순위(전처리)', '52주최고', '52주최저', '52주차액', '52주차액비율',\n",
       "       '현재-최고가', '현재/최고가비율', '투자의견', '목표주가', '매수매도', 'PBR(배)', 'BPS(원)',\n",
       "       '배당수익률%', 'EPS(원)', 'PER(배)'],\n",
       "      dtype='object')"
      ]
     },
     "execution_count": 71,
     "metadata": {},
     "output_type": "execute_result"
    }
   ],
   "source": [
    "# 전체 컬럼명 보기\n",
    "df.columns"
   ]
  },
  {
   "cell_type": "code",
   "execution_count": 72,
   "metadata": {},
   "outputs": [],
   "source": [
    "# cols 변수에 사용할 일부 컬럼만을 따로 리스트 형태로 만듭니다.\n",
    "cols = ['조회일자', '종목명', '종목코드', '52주차액비율', '거래대금', '거래량', \n",
    "        '배당수익률%', '목표주가', '상장주식수', '시가총액(억원)', '시가총액순위(전처리)', \n",
    "        '투자의견', '매수매도', '현재-최고가', '현재/최고가비율', '현재가', \n",
    "        'PER(배)', 'EPS(원)', 'PBR(배)', 'BPS(원)']"
   ]
  },
  {
   "cell_type": "code",
   "execution_count": 76,
   "metadata": {
    "scrolled": false
   },
   "outputs": [
    {
     "data": {
      "text/plain": [
       "(162, 20)"
      ]
     },
     "execution_count": 76,
     "metadata": {},
     "output_type": "execute_result"
    }
   ],
   "source": [
    "# 전체 데이터프레임에서 cols 컬럼만 가져와서 봅니다.\n",
    "df = df[cols].copy()\n",
    "df.shape"
   ]
  },
  {
   "cell_type": "markdown",
   "metadata": {},
   "source": [
    "## PER 상하위 10개 종목 찾기"
   ]
  },
  {
   "cell_type": "code",
   "execution_count": null,
   "metadata": {},
   "outputs": [],
   "source": [
    "# PER(배)가 낮은 하위 10개 종목을 정렬기능으로 찾습니다.\n",
    "# per_low"
   ]
  },
  {
   "cell_type": "code",
   "execution_count": null,
   "metadata": {},
   "outputs": [],
   "source": [
    "# PER(배) 가 낮은 하위 10개 종목을 막대그래프로 시각화 합니다.\n"
   ]
  },
  {
   "cell_type": "code",
   "execution_count": null,
   "metadata": {},
   "outputs": [],
   "source": [
    "# PER(배) 가 높은 상위 10개 종목을 정렬기능으로 찾습니다.\n",
    "# per_high"
   ]
  },
  {
   "cell_type": "code",
   "execution_count": null,
   "metadata": {},
   "outputs": [],
   "source": [
    "per_high.set_index(\"종목명\")[\"PER(배)\"].sort_values()"
   ]
  },
  {
   "cell_type": "code",
   "execution_count": null,
   "metadata": {},
   "outputs": [],
   "source": [
    "# per_high 변수에 담긴 \"종목명\", \"PER(배)\" 컬럼을 가져와 막대그래프로 시각화 합니다.\n"
   ]
  },
  {
   "cell_type": "markdown",
   "metadata": {},
   "source": [
    "## PBR 상하위 10개 종목 찾기\n",
    "\n",
    "\n",
    "* `PBR = 주가/BPS(주당순자산가치)`\n",
    "* PBR(주가순자산비율, price-to-book ratio, P/B ratio)"
   ]
  },
  {
   "cell_type": "code",
   "execution_count": null,
   "metadata": {},
   "outputs": [],
   "source": [
    "# PBR(배) 가 낮은 하위 10개 종목을 찾습니다.\n",
    "# pbr_low"
   ]
  },
  {
   "cell_type": "code",
   "execution_count": null,
   "metadata": {},
   "outputs": [],
   "source": [
    "# pbr_low"
   ]
  },
  {
   "cell_type": "code",
   "execution_count": null,
   "metadata": {},
   "outputs": [],
   "source": [
    "# PBR(배) 가 높은 상위 10개 종목을 찾습니다.\n",
    "# pbr_high"
   ]
  },
  {
   "cell_type": "markdown",
   "metadata": {},
   "source": [
    "## PER 와 PBR의 상관 분석\n",
    "\n",
    "### 상관 분석\n",
    "\n",
    "상관 분석(相關 分析, Correlation analysis) 또는 '상관관계' 또는 '상관'은 확률론과 통계학에서 두 변수간에 어떤 선형적 또는 비선형적 관계를 갖고 있는지를 분석하는 방법이다. 두 변수는 서로 독립적인 관계이거나 상관된 관계일 수 있으며 이때 두 변수간의 관계의 강도를 상관관계(Correlation, Correlation coefficient)라 한다. 상관분석에서는 상관관계의 정도를 나타내는 단위로 모상관계수로 ρ를 사용하며 표본 상관 계수로 r 을 사용한다.\n",
    "\n",
    "상관관계의 정도를 파악하는 상관 계수(相關係數, Correlation coefficient)는 <font color=\"red\">두 변수간의 연관된 정도를 나타낼 뿐 인과관계를 설명하는 것은 아니다.</font> 두 변수간에 원인과 결과의 인과관계가 있는지에 대한 것은 회귀분석을 통해 인과관계의 방향, 정도와 수학적 모델을 확인해 볼 수 있다.\n",
    "\n",
    "* 출처 : https://ko.wikipedia.org/wiki/%EC%83%81%EA%B4%80_%EB%B6%84%EC%84%9D\n",
    "\n",
    "### 피어슨 상관계수\n",
    "\n",
    "* r 값은 X 와 Y 가 완전히 동일하면 +1, 전혀 다르면 0, 반대방향으로 완전히 동일 하면 –1 을 가진다. \n",
    "* 결정계수(coefficient of determination)는 r^2 로 계산하며 이것은 X 로부터 Y 를 예측할 수 있는 정도를 의미한다.\n",
    "\n",
    "<img src=\"https://upload.wikimedia.org/wikipedia/commons/thumb/d/d4/Correlation_examples2.svg/800px-Correlation_examples2.svg.png\" width=\"500\">\n",
    "\n",
    "```\n",
    "일반적으로\n",
    "r이 -1.0과 -0.7 사이이면, 강한 음적 선형관계,\n",
    "r이 -0.7과 -0.3 사이이면, 뚜렷한 음적 선형관계,\n",
    "r이 -0.3과 -0.1 사이이면, 약한 음적 선형관계,\n",
    "r이 -0.1과 +0.1 사이이면, 거의 무시될 수 있는 선형관계,\n",
    "r이 +0.1과 +0.3 사이이면, 약한 양적 선형관계,\n",
    "r이 +0.3과 +0.7 사이이면, 뚜렷한 양적 선형관계,\n",
    "r이 +0.7과 +1.0 사이이면, 강한 양적 선형관계\n",
    "```\n",
    "\n",
    "<img src=\"https://upload.wikimedia.org/wikipedia/commons/3/34/Correlation_coefficient.png\" width=500>\n",
    "\n",
    "* 출처 :  https://ko.wikipedia.org/wiki/%EC%83%81%EA%B4%80_%EB%B6%84%EC%84%9D#%ED%94%BC%EC%96%B4%EC%8A%A8_%EC%83%81%EA%B4%80_%EA%B3%84%EC%88%98\n",
    "\n",
    "\n",
    "* PER : 주가수익률, Price Earnings Ratio\n",
    "* PBR : 주가순자산비율, price-to-book ratio, P/B ratio"
   ]
  },
  {
   "cell_type": "code",
   "execution_count": null,
   "metadata": {},
   "outputs": [],
   "source": [
    "#  PER와 PBR의 상관계수를 구합니다.\n"
   ]
  },
  {
   "cell_type": "code",
   "execution_count": null,
   "metadata": {},
   "outputs": [],
   "source": [
    "# scatterplot 을 통해 PER와 PBR이 선형성이 있는지 봅니다.\n"
   ]
  },
  {
   "cell_type": "code",
   "execution_count": null,
   "metadata": {},
   "outputs": [],
   "source": [
    "# regplot 을 통해 PER와 PBR이 선형성이 있는지 봅니다.\n"
   ]
  },
  {
   "cell_type": "markdown",
   "metadata": {},
   "source": [
    "### 이상치 찾기"
   ]
  },
  {
   "cell_type": "code",
   "execution_count": null,
   "metadata": {},
   "outputs": [],
   "source": [
    "# \"PER(배)\"의 이상치를 찾습니다.\n"
   ]
  },
  {
   "cell_type": "code",
   "execution_count": null,
   "metadata": {},
   "outputs": [],
   "source": []
  },
  {
   "cell_type": "code",
   "execution_count": null,
   "metadata": {},
   "outputs": [],
   "source": [
    "# \"PBR(배)\"의 이상치를 찾습니다.\n"
   ]
  },
  {
   "cell_type": "markdown",
   "metadata": {},
   "source": [
    "## 배당수익률이 높은 종목을 찾기"
   ]
  },
  {
   "cell_type": "code",
   "execution_count": null,
   "metadata": {},
   "outputs": [],
   "source": [
    "# 배당수익률% 컬럼이 결측치가 아닌 데이터 중 배당수익률% 가 높은 종목을 찾습니다.\n"
   ]
  },
  {
   "cell_type": "code",
   "execution_count": null,
   "metadata": {},
   "outputs": [],
   "source": [
    "# 위에서 구한 배당수익률이 높은 종목이 상단에 위치하도록 막대그래프로 시각화 합니다.\n",
    "# set_index(기준 축이 될 컬럼명으로 인덱스로 만들어 줍니다.)\n",
    "# sort_values(특정 컬럼 기준으로 순차정렬합니다.)\n"
   ]
  },
  {
   "cell_type": "markdown",
   "metadata": {
    "id": "bTZN6M7D3W3j"
   },
   "source": [
    "## 코스피에서 해당 업종/테마의 시가총액이 가장 많은 종목을 찾아주세요."
   ]
  },
  {
   "cell_type": "code",
   "execution_count": null,
   "metadata": {},
   "outputs": [],
   "source": [
    "# 코스피에 해당 여부를 인덱싱 합니다.\n",
    "# kospi"
   ]
  },
  {
   "cell_type": "code",
   "execution_count": null,
   "metadata": {},
   "outputs": [],
   "source": [
    "# 코스피중에서 시가총액(억원) 상위 20개 종목을 찾습니다.\n"
   ]
  },
  {
   "cell_type": "code",
   "execution_count": null,
   "metadata": {},
   "outputs": [],
   "source": []
  },
  {
   "cell_type": "markdown",
   "metadata": {
    "id": "YDccj8293W3j"
   },
   "source": [
    "## 코스피에서 해당 업종/테마의 거래량이 가장 많은 종목을 찾아주세요."
   ]
  },
  {
   "cell_type": "code",
   "execution_count": null,
   "metadata": {
    "id": "DLk40LjQ3W3j",
    "scrolled": false
   },
   "outputs": [],
   "source": [
    "# 거래량 column으로 sorting을 해보면 확인할 수 있습니다.\n",
    "# 거래량을 볼 때는 가격을 함께 참고해 보세요.\n"
   ]
  },
  {
   "cell_type": "code",
   "execution_count": null,
   "metadata": {},
   "outputs": [],
   "source": []
  },
  {
   "cell_type": "markdown",
   "metadata": {
    "id": "DLk40LjQ3W3j"
   },
   "source": [
    "## 코스피 해당 업종/테마 종목 중 최근 52주 최고가에서 현재가 기준으로 가장 손실이 크게 난 종목은 어떤 종목일까요?"
   ]
  },
  {
   "cell_type": "code",
   "execution_count": null,
   "metadata": {
    "id": "wIr4XKk33W3j",
    "scrolled": false
   },
   "outputs": [],
   "source": [
    "# df[\"현재/최고가비율\"] = df[\"현재가\"] / df[\"52주최고\"]\n",
    "# 현재/최고가비율 을 정렬합니다.\n",
    "# 현재/최고가비율이 낮은 순으로 손실이 크게 난 종목을 찾아봅니다.\n"
   ]
  },
  {
   "cell_type": "code",
   "execution_count": null,
   "metadata": {},
   "outputs": [],
   "source": [
    "# 현재/최고가비율로 손실이 큰 순서대로 막대그래프로 시각화 합니다.\n"
   ]
  },
  {
   "cell_type": "markdown",
   "metadata": {},
   "source": [
    "## 코스피 해당 업종/테마 종목 중 최근 52주 차액 비율이 가장 높은 종목은 무엇일까요?"
   ]
  },
  {
   "cell_type": "code",
   "execution_count": null,
   "metadata": {
    "scrolled": false
   },
   "outputs": [],
   "source": [
    "# df[\"52주차액비율\"] = df[\"52주최고\"] / df[\"52주최저\"]\n",
    "# \"52주차액비율\"이 높은 순으로 정렬합니다.\n"
   ]
  },
  {
   "cell_type": "code",
   "execution_count": null,
   "metadata": {},
   "outputs": [],
   "source": [
    "# 종목명에 대한 52주차액비율을 시각화 합니다.  \n"
   ]
  },
  {
   "cell_type": "markdown",
   "metadata": {},
   "source": [
    "\n",
    "### 손실 낙폭(Drawdown)\n",
    "거래 계좌 또는 펀드의 특정 기간 동안 최고치에서 최저치까지 감소하는 것입니다. 드로 다운은 일반적으로 최고점과 후속 최저점 사이의 백분율로 표시됩니다.\n",
    "\n",
    "드로 다운은 다른 투자의 역사적 위험을 측정하고 펀드 성과를 비교하거나 개인 거래 성과를 모니터링하는 데 중요합니다.\n",
    "* 드로 다운은 투자 또는 거래 계정이 최고점으로 회복되기 전에 최고점에서 얼마나 하락했는지를 나타냅니다.\n",
    "* 하락은 하락 변동성의 척도입니다.\n",
    "* 드로 다운을 평가할 때 드로 다운을 복구하는 데 걸리는 시간도 고려해야합니다.\n",
    "* 감소와 손실이 반드시 같은 것은 아닙니다.\n",
    "* 대부분의 거래자들은 하락을 최고점에서 최저점으로 보는 반면, 손실은 일반적으로 현재 또는 종료 가격과 관련된 구매 가격을 나타냅니다.\n",
    "\n",
    "* 참고 : https://www.investopedia.com/terms/d/drawdown.asp\n",
    "\n",
    "### 최대 손실 낙폭 (MDD: Maximum Drawdown)\n",
    "\n",
    "* 새로운 최고점에 도달하기 전에 포트폴리오의 최고점에서 최저점까지 관찰 된 최대 손실입니다. 최대 손실은 지정된 기간 동안의 하락 위험을 나타내는 지표입니다.\n",
    "* MDD (Maximum drawdown)는 최고점에서 최저점까지 자산의 최대 가격 하락을 측정 한 것입니다.\n",
    "* 최대 하락은 하락 위험의 지표로 간주되며 큰 MDD는 하락 움직임이 변동성이있을 수 있음을 시사합니다.\n",
    "* MDD는 가장 큰 손실을 측정하지만 손실의 빈도는 고려하지 않으며 이익의 크기는 고려하지 않습니다.\n",
    "\n",
    "```\n",
    "MDD = (저점값 - 고점값) / 고점값\n",
    "```\n",
    "\n",
    "* 참고 : https://www.investopedia.com/terms/m/maximum-drawdown-mdd.asp\n",
    "\n",
    "* 더 읽어보기 : [가상화폐 투자 마법 공식(5) - MDD(최대 낙폭) 에 대한 고찰 — Steemit](https://steemit.com/kr/@kangcfa/5-mdd)\n",
    "\n",
    "### 최대 손실 낙폭(MDD)이 큰 종목 순으로 찾아주세요."
   ]
  },
  {
   "cell_type": "code",
   "execution_count": null,
   "metadata": {},
   "outputs": [],
   "source": [
    "# MDD 값을 구하고 MDD 값으로 정렬합니다.\n",
    "# df[\"MDD\"]"
   ]
  },
  {
   "cell_type": "code",
   "execution_count": null,
   "metadata": {},
   "outputs": [],
   "source": []
  },
  {
   "cell_type": "markdown",
   "metadata": {},
   "source": [
    "## 코스피 해당 업종/테마에서 거래대금이 20위 안에 있는 코스피 종목 중에 \"PER(배)\"가 가장 높은 종목은 무엇일까요?"
   ]
  },
  {
   "cell_type": "code",
   "execution_count": null,
   "metadata": {
    "id": "ejEydf0r3W3j",
    "scrolled": false
   },
   "outputs": [],
   "source": [
    "# 거래대금 상위 20위 목록을 찾고\n",
    "# PER(배)가 높은 순으로 정렬합니다.\n",
    "# kospi_20\n",
    "# kospi_20_per\n"
   ]
  },
  {
   "cell_type": "code",
   "execution_count": null,
   "metadata": {},
   "outputs": [],
   "source": [
    "# kospi_20_per 변수에서 \"종목명\", \"거래대금\", \"PER(배)\" 만 따로 봅니다.\n"
   ]
  },
  {
   "cell_type": "markdown",
   "metadata": {
    "id": "gwUdEA5U3W3j"
   },
   "source": [
    "## 코스피 해당 업종/테마에서 거래대금이 20위 안에 있는 코스피 종목 중에 \"PER(배)\"가 가장 낮은 종목은 무엇일까요?"
   ]
  },
  {
   "cell_type": "code",
   "execution_count": null,
   "metadata": {
    "id": "Kn5ZQbgD3W3j",
    "scrolled": false
   },
   "outputs": [],
   "source": [
    "# 거래대금 상위 20개에 대한 데이터를 코스피거래대금 DataFrame에 할당합니다.\n",
    "# PER(배)가 낮은 순으로 정렬해 주세요.\n",
    "# kospi_20_per_low"
   ]
  },
  {
   "cell_type": "markdown",
   "metadata": {
    "id": "5wApMYvX3W3j"
   },
   "source": [
    "## 전체 변수에 대한 상관계수 구하기"
   ]
  },
  {
   "cell_type": "code",
   "execution_count": null,
   "metadata": {
    "id": "Wx4fxYDr3W3j"
   },
   "outputs": [],
   "source": [
    "# 데이터가 row 방향이나 column방향으로 모두 결측치일 경우 그 row나 colmun을 지우고,\n",
    "# corr()를 통해 column들 간의 상관계수를 구합니다.\n",
    "# kospi_corr"
   ]
  },
  {
   "cell_type": "markdown",
   "metadata": {
    "id": "N-3vITcz3W3j"
   },
   "source": [
    "### 상관계수 시각화"
   ]
  },
  {
   "cell_type": "code",
   "execution_count": null,
   "metadata": {
    "id": "MlD3Xtc73W3j"
   },
   "outputs": [],
   "source": [
    "# np.triu : matrix를 상삼각행렬로 만드는 numpy math\n",
    "# [1 2 3]   np.triu  [1 2 3]\n",
    "# [4 5 6]   -------> [0 5 6]\n",
    "# [2 3 4]            [0 0 4]\n",
    "# np.ones_like(x) : x와 크기만 같은 1로 이루어진 array를 만듭니다.\n",
    "\n",
    "# 수식적으로 어려워 보일수도 있지만 간단합니다.\n",
    "# 자기상관계수는 대각행렬을 기준으로 대칭되어 같은 값이 출력되므로,\n",
    "# 이대로 전체를 heatmap을 plot하면 오히려 가독성이 떨어질 수 있습니다.\n",
    "# 이에, 가독성을 높이기 위해 대각행렬 기준으로 한쪽의 데이터들만 masking 기법을 통해 plot하여 \n",
    "# 가독성을 높이는 효과를 가질수 있습니다.\n",
    "# mask"
   ]
  },
  {
   "cell_type": "code",
   "execution_count": null,
   "metadata": {
    "id": "MlD3Xtc73W3j"
   },
   "outputs": [],
   "source": [
    "# 대비되는 표현을 하고자 할 때는 seismic cmap을 사용하면 좋습니다.\n"
   ]
  },
  {
   "cell_type": "code",
   "execution_count": null,
   "metadata": {},
   "outputs": [],
   "source": [
    "# matplotlib의 pyplot에서 사용할 수 있는 컬러맵을 찾아봅니다.\n",
    "# print(plt.colormaps())"
   ]
  },
  {
   "cell_type": "markdown",
   "metadata": {
    "id": "Va_iaKQe3W3j"
   },
   "source": [
    "## 종목별 상관계수 구하기\n",
    "* 특정 일자의 주가를 통해 구하는 상관계수 입니다.\n",
    "* 장기간의 데이터를 사용하거나 다른 변수를 추가해서 사용하게 되면 좀 더 의미있는 상관계수를 구할 수 있습니다.\n",
    "* <font color=\"red\">상관 계수 수치는 인과 관계와는 무관합니다.</font>"
   ]
  },
  {
   "cell_type": "code",
   "execution_count": null,
   "metadata": {
    "id": "b5Zz6koW3W3j"
   },
   "outputs": [],
   "source": [
    "# 종목명과 수치형 데이터 column들로 list작성합니다.\n",
    "# df_nums \n",
    "# df.dtypes[df.dtypes != object]\n"
   ]
  },
  {
   "cell_type": "code",
   "execution_count": null,
   "metadata": {
    "id": "b5Zz6koW3W3j"
   },
   "outputs": [],
   "source": [
    "# df_nums 에 종목명을 추가합니다.\n"
   ]
  },
  {
   "cell_type": "code",
   "execution_count": null,
   "metadata": {},
   "outputs": [],
   "source": [
    "# 종목명을 인덱스로 설정하고 다시 transpose를 하면 종목명이 컬럼으로 오게 됩니다.\n",
    "# df_item"
   ]
  },
  {
   "cell_type": "code",
   "execution_count": null,
   "metadata": {
    "id": "cxZ_JfOt3W3j"
   },
   "outputs": [],
   "source": [
    "# set_index로 종목명 column으로 만들고,\n",
    "# trainpose(T)로 종목명 column 안에 있던 각각 종목명들이 개별 변수 컬럼으로 변경됩니다.\n",
    "# corr()로 각 변수들간의 상관 계수를 구합니다.\n",
    "# df_item_corr"
   ]
  },
  {
   "cell_type": "code",
   "execution_count": null,
   "metadata": {
    "id": "FBvbelv6oXKv",
    "scrolled": false
   },
   "outputs": [],
   "source": [
    "# df_item_corr"
   ]
  },
  {
   "cell_type": "code",
   "execution_count": null,
   "metadata": {
    "id": "3RiUIx633W3j",
    "scrolled": false
   },
   "outputs": [],
   "source": [
    "# 특정 주가와 상관관계가 높은 순으로 내림차순으로 정렬합니다.\n"
   ]
  },
  {
   "cell_type": "code",
   "execution_count": null,
   "metadata": {},
   "outputs": [],
   "source": []
  },
  {
   "cell_type": "markdown",
   "metadata": {
    "id": "8EvB6xG-3W3j"
   },
   "source": [
    "* 실습결과에 다른 테마를 적용해 보면 같은 방식으로 여러 테마를 분석해 보실 수 있습니다."
   ]
  },
  {
   "cell_type": "code",
   "execution_count": null,
   "metadata": {
    "id": "o2R_ETLb3W3j"
   },
   "outputs": [],
   "source": []
  },
  {
   "cell_type": "code",
   "execution_count": null,
   "metadata": {},
   "outputs": [],
   "source": []
  }
 ],
 "metadata": {
  "colab": {
   "collapsed_sections": [],
   "name": "5. 테마분석.ipynb",
   "provenance": []
  },
  "kernelspec": {
   "display_name": "Python 3 (ipykernel)",
   "language": "python",
   "name": "python3"
  },
  "language_info": {
   "codemirror_mode": {
    "name": "ipython",
    "version": 3
   },
   "file_extension": ".py",
   "mimetype": "text/x-python",
   "name": "python",
   "nbconvert_exporter": "python",
   "pygments_lexer": "ipython3",
   "version": "3.9.15"
  },
  "toc": {
   "base_numbering": 1,
   "nav_menu": {},
   "number_sections": true,
   "sideBar": true,
   "skip_h1_title": false,
   "title_cell": "Table of Contents",
   "title_sidebar": "Contents",
   "toc_cell": false,
   "toc_position": {
    "height": "calc(100% - 180px)",
    "left": "10px",
    "top": "150px",
    "width": "208px"
   },
   "toc_section_display": true,
   "toc_window_display": true
  },
  "varInspector": {
   "cols": {
    "lenName": 16,
    "lenType": 16,
    "lenVar": 40
   },
   "kernels_config": {
    "python": {
     "delete_cmd_postfix": "",
     "delete_cmd_prefix": "del ",
     "library": "var_list.py",
     "varRefreshCmd": "print(var_dic_list())"
    },
    "r": {
     "delete_cmd_postfix": ") ",
     "delete_cmd_prefix": "rm(",
     "library": "var_list.r",
     "varRefreshCmd": "cat(var_dic_list()) "
    }
   },
   "position": {
    "height": "144px",
    "left": "910px",
    "right": "20px",
    "top": "119px",
    "width": "350px"
   },
   "types_to_exclude": [
    "module",
    "function",
    "builtin_function_or_method",
    "instance",
    "_Feature"
   ],
   "window_display": false
  }
 },
 "nbformat": 4,
 "nbformat_minor": 1
}
